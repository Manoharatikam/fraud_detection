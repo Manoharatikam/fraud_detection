{
  "cells": [
    {
      "cell_type": "markdown",
      "source": [
        "####Name:Manohar Goud\n",
        "##Roll No:21X05A6706\n",
        "##Branch:lV year cse(data science)\n",
        "##College:Narsimha Reddy Engineering College"
      ],
      "metadata": {
        "id": "O3GQb_TQURb1"
      }
    },
    {
      "cell_type": "markdown",
      "source": [
        "##project title:Analysis and prediction of creditcard.csv\n"
      ],
      "metadata": {
        "id": "cYtjxve1Ur6n"
      }
    },
    {
      "cell_type": "markdown",
      "source": [
        "##project statement: There are so many frauds which is going on  the scoiety by credit card.By collecting the data and making effiecient analysis and classifying the fradulent transactions and valid transactions\n"
      ],
      "metadata": {
        "id": "K_hBe72TVM3l"
      }
    },
    {
      "cell_type": "code",
      "source": [
        "import numpy as np\n",
        "import pandas as pd\n",
        "import matplotlib.pyplot as plt\n",
        "import seaborn as sns\n",
        "from sklearn.model_selection import train_test_split\n",
        "from sklearn.metrics import accuracy_score,confusion_matrix\n",
        "from sklearn.metrics import precision_score,recall_score\n",
        "from sklearn.ensemble import RandomForestClassifier"
      ],
      "metadata": {
        "id": "qKBtMx8uZLTg"
      },
      "execution_count": null,
      "outputs": []
    },
    {
      "cell_type": "code",
      "execution_count": null,
      "metadata": {
        "colab": {
          "base_uri": "https://localhost:8080/",
          "height": 255
        },
        "id": "WM2U8BFdSgWa",
        "outputId": "42001f69-2c71-49b9-c809-9cc2a31e5ada"
      },
      "outputs": [
        {
          "output_type": "execute_result",
          "data": {
            "text/plain": [
              "   Time        V1        V2        V3        V4        V5        V6        V7  \\\n",
              "0     0 -1.359807 -0.072781  2.536347  1.378155 -0.338321  0.462388  0.239599   \n",
              "1     0  1.191857  0.266151  0.166480  0.448154  0.060018 -0.082361 -0.078803   \n",
              "2     1 -1.358354 -1.340163  1.773209  0.379780 -0.503198  1.800499  0.791461   \n",
              "3     1 -0.966272 -0.185226  1.792993 -0.863291 -0.010309  1.247203  0.237609   \n",
              "4     2 -1.158233  0.877737  1.548718  0.403034 -0.407193  0.095921  0.592941   \n",
              "\n",
              "         V8        V9  ...       V21       V22       V23       V24       V25  \\\n",
              "0  0.098698  0.363787  ... -0.018307  0.277838 -0.110474  0.066928  0.128539   \n",
              "1  0.085102 -0.255425  ... -0.225775 -0.638672  0.101288 -0.339846  0.167170   \n",
              "2  0.247676 -1.514654  ...  0.247998  0.771679  0.909412 -0.689281 -0.327642   \n",
              "3  0.377436 -1.387024  ... -0.108300  0.005274 -0.190321 -1.175575  0.647376   \n",
              "4 -0.270533  0.817739  ... -0.009431  0.798278 -0.137458  0.141267 -0.206010   \n",
              "\n",
              "        V26       V27       V28  Amount  Class  \n",
              "0 -0.189115  0.133558 -0.021053  149.62    0.0  \n",
              "1  0.125895 -0.008983  0.014724    2.69    0.0  \n",
              "2 -0.139097 -0.055353 -0.059752  378.66    0.0  \n",
              "3 -0.221929  0.062723  0.061458  123.50    0.0  \n",
              "4  0.502292  0.219422  0.215153   69.99    0.0  \n",
              "\n",
              "[5 rows x 31 columns]"
            ],
            "text/html": [
              "\n",
              "  <div id=\"df-cacb80d2-0746-4408-a212-79edac380cf7\" class=\"colab-df-container\">\n",
              "    <div>\n",
              "<style scoped>\n",
              "    .dataframe tbody tr th:only-of-type {\n",
              "        vertical-align: middle;\n",
              "    }\n",
              "\n",
              "    .dataframe tbody tr th {\n",
              "        vertical-align: top;\n",
              "    }\n",
              "\n",
              "    .dataframe thead th {\n",
              "        text-align: right;\n",
              "    }\n",
              "</style>\n",
              "<table border=\"1\" class=\"dataframe\">\n",
              "  <thead>\n",
              "    <tr style=\"text-align: right;\">\n",
              "      <th></th>\n",
              "      <th>Time</th>\n",
              "      <th>V1</th>\n",
              "      <th>V2</th>\n",
              "      <th>V3</th>\n",
              "      <th>V4</th>\n",
              "      <th>V5</th>\n",
              "      <th>V6</th>\n",
              "      <th>V7</th>\n",
              "      <th>V8</th>\n",
              "      <th>V9</th>\n",
              "      <th>...</th>\n",
              "      <th>V21</th>\n",
              "      <th>V22</th>\n",
              "      <th>V23</th>\n",
              "      <th>V24</th>\n",
              "      <th>V25</th>\n",
              "      <th>V26</th>\n",
              "      <th>V27</th>\n",
              "      <th>V28</th>\n",
              "      <th>Amount</th>\n",
              "      <th>Class</th>\n",
              "    </tr>\n",
              "  </thead>\n",
              "  <tbody>\n",
              "    <tr>\n",
              "      <th>0</th>\n",
              "      <td>0</td>\n",
              "      <td>-1.359807</td>\n",
              "      <td>-0.072781</td>\n",
              "      <td>2.536347</td>\n",
              "      <td>1.378155</td>\n",
              "      <td>-0.338321</td>\n",
              "      <td>0.462388</td>\n",
              "      <td>0.239599</td>\n",
              "      <td>0.098698</td>\n",
              "      <td>0.363787</td>\n",
              "      <td>...</td>\n",
              "      <td>-0.018307</td>\n",
              "      <td>0.277838</td>\n",
              "      <td>-0.110474</td>\n",
              "      <td>0.066928</td>\n",
              "      <td>0.128539</td>\n",
              "      <td>-0.189115</td>\n",
              "      <td>0.133558</td>\n",
              "      <td>-0.021053</td>\n",
              "      <td>149.62</td>\n",
              "      <td>0.0</td>\n",
              "    </tr>\n",
              "    <tr>\n",
              "      <th>1</th>\n",
              "      <td>0</td>\n",
              "      <td>1.191857</td>\n",
              "      <td>0.266151</td>\n",
              "      <td>0.166480</td>\n",
              "      <td>0.448154</td>\n",
              "      <td>0.060018</td>\n",
              "      <td>-0.082361</td>\n",
              "      <td>-0.078803</td>\n",
              "      <td>0.085102</td>\n",
              "      <td>-0.255425</td>\n",
              "      <td>...</td>\n",
              "      <td>-0.225775</td>\n",
              "      <td>-0.638672</td>\n",
              "      <td>0.101288</td>\n",
              "      <td>-0.339846</td>\n",
              "      <td>0.167170</td>\n",
              "      <td>0.125895</td>\n",
              "      <td>-0.008983</td>\n",
              "      <td>0.014724</td>\n",
              "      <td>2.69</td>\n",
              "      <td>0.0</td>\n",
              "    </tr>\n",
              "    <tr>\n",
              "      <th>2</th>\n",
              "      <td>1</td>\n",
              "      <td>-1.358354</td>\n",
              "      <td>-1.340163</td>\n",
              "      <td>1.773209</td>\n",
              "      <td>0.379780</td>\n",
              "      <td>-0.503198</td>\n",
              "      <td>1.800499</td>\n",
              "      <td>0.791461</td>\n",
              "      <td>0.247676</td>\n",
              "      <td>-1.514654</td>\n",
              "      <td>...</td>\n",
              "      <td>0.247998</td>\n",
              "      <td>0.771679</td>\n",
              "      <td>0.909412</td>\n",
              "      <td>-0.689281</td>\n",
              "      <td>-0.327642</td>\n",
              "      <td>-0.139097</td>\n",
              "      <td>-0.055353</td>\n",
              "      <td>-0.059752</td>\n",
              "      <td>378.66</td>\n",
              "      <td>0.0</td>\n",
              "    </tr>\n",
              "    <tr>\n",
              "      <th>3</th>\n",
              "      <td>1</td>\n",
              "      <td>-0.966272</td>\n",
              "      <td>-0.185226</td>\n",
              "      <td>1.792993</td>\n",
              "      <td>-0.863291</td>\n",
              "      <td>-0.010309</td>\n",
              "      <td>1.247203</td>\n",
              "      <td>0.237609</td>\n",
              "      <td>0.377436</td>\n",
              "      <td>-1.387024</td>\n",
              "      <td>...</td>\n",
              "      <td>-0.108300</td>\n",
              "      <td>0.005274</td>\n",
              "      <td>-0.190321</td>\n",
              "      <td>-1.175575</td>\n",
              "      <td>0.647376</td>\n",
              "      <td>-0.221929</td>\n",
              "      <td>0.062723</td>\n",
              "      <td>0.061458</td>\n",
              "      <td>123.50</td>\n",
              "      <td>0.0</td>\n",
              "    </tr>\n",
              "    <tr>\n",
              "      <th>4</th>\n",
              "      <td>2</td>\n",
              "      <td>-1.158233</td>\n",
              "      <td>0.877737</td>\n",
              "      <td>1.548718</td>\n",
              "      <td>0.403034</td>\n",
              "      <td>-0.407193</td>\n",
              "      <td>0.095921</td>\n",
              "      <td>0.592941</td>\n",
              "      <td>-0.270533</td>\n",
              "      <td>0.817739</td>\n",
              "      <td>...</td>\n",
              "      <td>-0.009431</td>\n",
              "      <td>0.798278</td>\n",
              "      <td>-0.137458</td>\n",
              "      <td>0.141267</td>\n",
              "      <td>-0.206010</td>\n",
              "      <td>0.502292</td>\n",
              "      <td>0.219422</td>\n",
              "      <td>0.215153</td>\n",
              "      <td>69.99</td>\n",
              "      <td>0.0</td>\n",
              "    </tr>\n",
              "  </tbody>\n",
              "</table>\n",
              "<p>5 rows × 31 columns</p>\n",
              "</div>\n",
              "    <div class=\"colab-df-buttons\">\n",
              "\n",
              "  <div class=\"colab-df-container\">\n",
              "    <button class=\"colab-df-convert\" onclick=\"convertToInteractive('df-cacb80d2-0746-4408-a212-79edac380cf7')\"\n",
              "            title=\"Convert this dataframe to an interactive table.\"\n",
              "            style=\"display:none;\">\n",
              "\n",
              "  <svg xmlns=\"http://www.w3.org/2000/svg\" height=\"24px\" viewBox=\"0 -960 960 960\">\n",
              "    <path d=\"M120-120v-720h720v720H120Zm60-500h600v-160H180v160Zm220 220h160v-160H400v160Zm0 220h160v-160H400v160ZM180-400h160v-160H180v160Zm440 0h160v-160H620v160ZM180-180h160v-160H180v160Zm440 0h160v-160H620v160Z\"/>\n",
              "  </svg>\n",
              "    </button>\n",
              "\n",
              "  <style>\n",
              "    .colab-df-container {\n",
              "      display:flex;\n",
              "      gap: 12px;\n",
              "    }\n",
              "\n",
              "    .colab-df-convert {\n",
              "      background-color: #E8F0FE;\n",
              "      border: none;\n",
              "      border-radius: 50%;\n",
              "      cursor: pointer;\n",
              "      display: none;\n",
              "      fill: #1967D2;\n",
              "      height: 32px;\n",
              "      padding: 0 0 0 0;\n",
              "      width: 32px;\n",
              "    }\n",
              "\n",
              "    .colab-df-convert:hover {\n",
              "      background-color: #E2EBFA;\n",
              "      box-shadow: 0px 1px 2px rgba(60, 64, 67, 0.3), 0px 1px 3px 1px rgba(60, 64, 67, 0.15);\n",
              "      fill: #174EA6;\n",
              "    }\n",
              "\n",
              "    .colab-df-buttons div {\n",
              "      margin-bottom: 4px;\n",
              "    }\n",
              "\n",
              "    [theme=dark] .colab-df-convert {\n",
              "      background-color: #3B4455;\n",
              "      fill: #D2E3FC;\n",
              "    }\n",
              "\n",
              "    [theme=dark] .colab-df-convert:hover {\n",
              "      background-color: #434B5C;\n",
              "      box-shadow: 0px 1px 3px 1px rgba(0, 0, 0, 0.15);\n",
              "      filter: drop-shadow(0px 1px 2px rgba(0, 0, 0, 0.3));\n",
              "      fill: #FFFFFF;\n",
              "    }\n",
              "  </style>\n",
              "\n",
              "    <script>\n",
              "      const buttonEl =\n",
              "        document.querySelector('#df-cacb80d2-0746-4408-a212-79edac380cf7 button.colab-df-convert');\n",
              "      buttonEl.style.display =\n",
              "        google.colab.kernel.accessAllowed ? 'block' : 'none';\n",
              "\n",
              "      async function convertToInteractive(key) {\n",
              "        const element = document.querySelector('#df-cacb80d2-0746-4408-a212-79edac380cf7');\n",
              "        const dataTable =\n",
              "          await google.colab.kernel.invokeFunction('convertToInteractive',\n",
              "                                                    [key], {});\n",
              "        if (!dataTable) return;\n",
              "\n",
              "        const docLinkHtml = 'Like what you see? Visit the ' +\n",
              "          '<a target=\"_blank\" href=https://colab.research.google.com/notebooks/data_table.ipynb>data table notebook</a>'\n",
              "          + ' to learn more about interactive tables.';\n",
              "        element.innerHTML = '';\n",
              "        dataTable['output_type'] = 'display_data';\n",
              "        await google.colab.output.renderOutput(dataTable, element);\n",
              "        const docLink = document.createElement('div');\n",
              "        docLink.innerHTML = docLinkHtml;\n",
              "        element.appendChild(docLink);\n",
              "      }\n",
              "    </script>\n",
              "  </div>\n",
              "\n",
              "\n",
              "<div id=\"df-7feb2573-e1de-4251-924b-0f9af874532f\">\n",
              "  <button class=\"colab-df-quickchart\" onclick=\"quickchart('df-7feb2573-e1de-4251-924b-0f9af874532f')\"\n",
              "            title=\"Suggest charts.\"\n",
              "            style=\"display:none;\">\n",
              "\n",
              "<svg xmlns=\"http://www.w3.org/2000/svg\" height=\"24px\"viewBox=\"0 0 24 24\"\n",
              "     width=\"24px\">\n",
              "    <g>\n",
              "        <path d=\"M19 3H5c-1.1 0-2 .9-2 2v14c0 1.1.9 2 2 2h14c1.1 0 2-.9 2-2V5c0-1.1-.9-2-2-2zM9 17H7v-7h2v7zm4 0h-2V7h2v10zm4 0h-2v-4h2v4z\"/>\n",
              "    </g>\n",
              "</svg>\n",
              "  </button>\n",
              "\n",
              "<style>\n",
              "  .colab-df-quickchart {\n",
              "      --bg-color: #E8F0FE;\n",
              "      --fill-color: #1967D2;\n",
              "      --hover-bg-color: #E2EBFA;\n",
              "      --hover-fill-color: #174EA6;\n",
              "      --disabled-fill-color: #AAA;\n",
              "      --disabled-bg-color: #DDD;\n",
              "  }\n",
              "\n",
              "  [theme=dark] .colab-df-quickchart {\n",
              "      --bg-color: #3B4455;\n",
              "      --fill-color: #D2E3FC;\n",
              "      --hover-bg-color: #434B5C;\n",
              "      --hover-fill-color: #FFFFFF;\n",
              "      --disabled-bg-color: #3B4455;\n",
              "      --disabled-fill-color: #666;\n",
              "  }\n",
              "\n",
              "  .colab-df-quickchart {\n",
              "    background-color: var(--bg-color);\n",
              "    border: none;\n",
              "    border-radius: 50%;\n",
              "    cursor: pointer;\n",
              "    display: none;\n",
              "    fill: var(--fill-color);\n",
              "    height: 32px;\n",
              "    padding: 0;\n",
              "    width: 32px;\n",
              "  }\n",
              "\n",
              "  .colab-df-quickchart:hover {\n",
              "    background-color: var(--hover-bg-color);\n",
              "    box-shadow: 0 1px 2px rgba(60, 64, 67, 0.3), 0 1px 3px 1px rgba(60, 64, 67, 0.15);\n",
              "    fill: var(--button-hover-fill-color);\n",
              "  }\n",
              "\n",
              "  .colab-df-quickchart-complete:disabled,\n",
              "  .colab-df-quickchart-complete:disabled:hover {\n",
              "    background-color: var(--disabled-bg-color);\n",
              "    fill: var(--disabled-fill-color);\n",
              "    box-shadow: none;\n",
              "  }\n",
              "\n",
              "  .colab-df-spinner {\n",
              "    border: 2px solid var(--fill-color);\n",
              "    border-color: transparent;\n",
              "    border-bottom-color: var(--fill-color);\n",
              "    animation:\n",
              "      spin 1s steps(1) infinite;\n",
              "  }\n",
              "\n",
              "  @keyframes spin {\n",
              "    0% {\n",
              "      border-color: transparent;\n",
              "      border-bottom-color: var(--fill-color);\n",
              "      border-left-color: var(--fill-color);\n",
              "    }\n",
              "    20% {\n",
              "      border-color: transparent;\n",
              "      border-left-color: var(--fill-color);\n",
              "      border-top-color: var(--fill-color);\n",
              "    }\n",
              "    30% {\n",
              "      border-color: transparent;\n",
              "      border-left-color: var(--fill-color);\n",
              "      border-top-color: var(--fill-color);\n",
              "      border-right-color: var(--fill-color);\n",
              "    }\n",
              "    40% {\n",
              "      border-color: transparent;\n",
              "      border-right-color: var(--fill-color);\n",
              "      border-top-color: var(--fill-color);\n",
              "    }\n",
              "    60% {\n",
              "      border-color: transparent;\n",
              "      border-right-color: var(--fill-color);\n",
              "    }\n",
              "    80% {\n",
              "      border-color: transparent;\n",
              "      border-right-color: var(--fill-color);\n",
              "      border-bottom-color: var(--fill-color);\n",
              "    }\n",
              "    90% {\n",
              "      border-color: transparent;\n",
              "      border-bottom-color: var(--fill-color);\n",
              "    }\n",
              "  }\n",
              "</style>\n",
              "\n",
              "  <script>\n",
              "    async function quickchart(key) {\n",
              "      const quickchartButtonEl =\n",
              "        document.querySelector('#' + key + ' button');\n",
              "      quickchartButtonEl.disabled = true;  // To prevent multiple clicks.\n",
              "      quickchartButtonEl.classList.add('colab-df-spinner');\n",
              "      try {\n",
              "        const charts = await google.colab.kernel.invokeFunction(\n",
              "            'suggestCharts', [key], {});\n",
              "      } catch (error) {\n",
              "        console.error('Error during call to suggestCharts:', error);\n",
              "      }\n",
              "      quickchartButtonEl.classList.remove('colab-df-spinner');\n",
              "      quickchartButtonEl.classList.add('colab-df-quickchart-complete');\n",
              "    }\n",
              "    (() => {\n",
              "      let quickchartButtonEl =\n",
              "        document.querySelector('#df-7feb2573-e1de-4251-924b-0f9af874532f button');\n",
              "      quickchartButtonEl.style.display =\n",
              "        google.colab.kernel.accessAllowed ? 'block' : 'none';\n",
              "    })();\n",
              "  </script>\n",
              "</div>\n",
              "    </div>\n",
              "  </div>\n"
            ]
          },
          "metadata": {},
          "execution_count": 4
        }
      ],
      "source": [
        "df=pd.read_csv('creditcard.csv')\n",
        "df.head()"
      ]
    },
    {
      "cell_type": "code",
      "execution_count": null,
      "metadata": {
        "colab": {
          "base_uri": "https://localhost:8080/"
        },
        "id": "Rv0V1Ft8Sne9",
        "outputId": "9322f8d7-8655-4662-c169-57ecb51cdcf4"
      },
      "outputs": [
        {
          "output_type": "execute_result",
          "data": {
            "text/plain": [
              "(7973, 31)"
            ]
          },
          "metadata": {},
          "execution_count": 5
        }
      ],
      "source": [
        "df.shape"
      ]
    },
    {
      "cell_type": "code",
      "execution_count": null,
      "metadata": {
        "colab": {
          "base_uri": "https://localhost:8080/",
          "height": 349
        },
        "id": "jlhY4rFdSpi5",
        "outputId": "72b9b850-de01-4abb-ae7d-3a719ca722ef"
      },
      "outputs": [
        {
          "output_type": "execute_result",
          "data": {
            "text/plain": [
              "               Time           V1           V2           V3           V4  \\\n",
              "count   7973.000000  7973.000000  7973.000000  7973.000000  7973.000000   \n",
              "mean    4257.151261    -0.299740     0.295226     0.899355     0.215736   \n",
              "std     3198.964299     1.498341     1.283914     1.090297     1.447057   \n",
              "min        0.000000   -23.066842   -25.640527   -12.389545    -4.657545   \n",
              "25%     1531.000000    -1.046362    -0.237359     0.372435    -0.687521   \n",
              "50%     3635.000000    -0.416341     0.335446     0.948695     0.223379   \n",
              "75%     6662.000000     1.122758     0.950582     1.597949     1.131542   \n",
              "max    10981.000000     1.685314     8.261750     4.101716     7.380245   \n",
              "\n",
              "                V5           V6           V7           V8           V9  ...  \\\n",
              "count  7973.000000  7973.000000  7973.000000  7973.000000  7973.000000  ...   \n",
              "mean     -0.025285     0.157286    -0.026445    -0.070525     0.655244  ...   \n",
              "std       1.167218     1.325015     1.063709     1.332568     1.156618  ...   \n",
              "min     -32.092129    -7.574798   -12.968670   -23.632502    -3.878658  ...   \n",
              "25%      -0.630525    -0.655399    -0.517733    -0.199794    -0.085635  ...   \n",
              "50%      -0.107337    -0.148669     0.004732     0.016128     0.613170  ...   \n",
              "75%       0.405082     0.555200     0.527353     0.307111     1.294087  ...   \n",
              "max      11.974269    21.393069    34.303177     3.877662    10.392889  ...   \n",
              "\n",
              "               V21          V22          V23          V24          V25  \\\n",
              "count  7972.000000  7972.000000  7972.000000  7972.000000  7972.000000   \n",
              "mean     -0.053715    -0.165799    -0.035174     0.025977     0.088893   \n",
              "std       0.953498     0.654858     0.488322     0.601760     0.427505   \n",
              "min     -11.468435    -8.527145   -15.144340    -2.512377    -2.577363   \n",
              "25%      -0.271837    -0.581473    -0.182989    -0.340419    -0.161009   \n",
              "50%      -0.130344    -0.167048    -0.046107     0.089606     0.115418   \n",
              "75%       0.044823     0.250886     0.086806     0.421015     0.361249   \n",
              "max      22.588989     4.534454    13.876221     3.200201     5.525093   \n",
              "\n",
              "               V26          V27          V28       Amount        Class  \n",
              "count  7972.000000  7972.000000  7972.000000  7972.000000  7972.000000  \n",
              "mean      0.020256     0.016150     0.001161    65.413540     0.003136  \n",
              "std       0.517409     0.403570     0.275976   194.911169     0.055915  \n",
              "min      -1.338556    -7.976100    -3.054085     0.000000     0.000000  \n",
              "25%      -0.363180    -0.063198    -0.019081     4.617500     0.000000  \n",
              "50%      -0.015260     0.007101     0.018443    15.950000     0.000000  \n",
              "75%       0.329322     0.144700     0.080563    54.910000     0.000000  \n",
              "max       3.517346     4.173387     4.860769  7712.430000     1.000000  \n",
              "\n",
              "[8 rows x 31 columns]"
            ],
            "text/html": [
              "\n",
              "  <div id=\"df-ec8ffcfc-365d-4eaa-9957-d8837d66170a\" class=\"colab-df-container\">\n",
              "    <div>\n",
              "<style scoped>\n",
              "    .dataframe tbody tr th:only-of-type {\n",
              "        vertical-align: middle;\n",
              "    }\n",
              "\n",
              "    .dataframe tbody tr th {\n",
              "        vertical-align: top;\n",
              "    }\n",
              "\n",
              "    .dataframe thead th {\n",
              "        text-align: right;\n",
              "    }\n",
              "</style>\n",
              "<table border=\"1\" class=\"dataframe\">\n",
              "  <thead>\n",
              "    <tr style=\"text-align: right;\">\n",
              "      <th></th>\n",
              "      <th>Time</th>\n",
              "      <th>V1</th>\n",
              "      <th>V2</th>\n",
              "      <th>V3</th>\n",
              "      <th>V4</th>\n",
              "      <th>V5</th>\n",
              "      <th>V6</th>\n",
              "      <th>V7</th>\n",
              "      <th>V8</th>\n",
              "      <th>V9</th>\n",
              "      <th>...</th>\n",
              "      <th>V21</th>\n",
              "      <th>V22</th>\n",
              "      <th>V23</th>\n",
              "      <th>V24</th>\n",
              "      <th>V25</th>\n",
              "      <th>V26</th>\n",
              "      <th>V27</th>\n",
              "      <th>V28</th>\n",
              "      <th>Amount</th>\n",
              "      <th>Class</th>\n",
              "    </tr>\n",
              "  </thead>\n",
              "  <tbody>\n",
              "    <tr>\n",
              "      <th>count</th>\n",
              "      <td>7973.000000</td>\n",
              "      <td>7973.000000</td>\n",
              "      <td>7973.000000</td>\n",
              "      <td>7973.000000</td>\n",
              "      <td>7973.000000</td>\n",
              "      <td>7973.000000</td>\n",
              "      <td>7973.000000</td>\n",
              "      <td>7973.000000</td>\n",
              "      <td>7973.000000</td>\n",
              "      <td>7973.000000</td>\n",
              "      <td>...</td>\n",
              "      <td>7972.000000</td>\n",
              "      <td>7972.000000</td>\n",
              "      <td>7972.000000</td>\n",
              "      <td>7972.000000</td>\n",
              "      <td>7972.000000</td>\n",
              "      <td>7972.000000</td>\n",
              "      <td>7972.000000</td>\n",
              "      <td>7972.000000</td>\n",
              "      <td>7972.000000</td>\n",
              "      <td>7972.000000</td>\n",
              "    </tr>\n",
              "    <tr>\n",
              "      <th>mean</th>\n",
              "      <td>4257.151261</td>\n",
              "      <td>-0.299740</td>\n",
              "      <td>0.295226</td>\n",
              "      <td>0.899355</td>\n",
              "      <td>0.215736</td>\n",
              "      <td>-0.025285</td>\n",
              "      <td>0.157286</td>\n",
              "      <td>-0.026445</td>\n",
              "      <td>-0.070525</td>\n",
              "      <td>0.655244</td>\n",
              "      <td>...</td>\n",
              "      <td>-0.053715</td>\n",
              "      <td>-0.165799</td>\n",
              "      <td>-0.035174</td>\n",
              "      <td>0.025977</td>\n",
              "      <td>0.088893</td>\n",
              "      <td>0.020256</td>\n",
              "      <td>0.016150</td>\n",
              "      <td>0.001161</td>\n",
              "      <td>65.413540</td>\n",
              "      <td>0.003136</td>\n",
              "    </tr>\n",
              "    <tr>\n",
              "      <th>std</th>\n",
              "      <td>3198.964299</td>\n",
              "      <td>1.498341</td>\n",
              "      <td>1.283914</td>\n",
              "      <td>1.090297</td>\n",
              "      <td>1.447057</td>\n",
              "      <td>1.167218</td>\n",
              "      <td>1.325015</td>\n",
              "      <td>1.063709</td>\n",
              "      <td>1.332568</td>\n",
              "      <td>1.156618</td>\n",
              "      <td>...</td>\n",
              "      <td>0.953498</td>\n",
              "      <td>0.654858</td>\n",
              "      <td>0.488322</td>\n",
              "      <td>0.601760</td>\n",
              "      <td>0.427505</td>\n",
              "      <td>0.517409</td>\n",
              "      <td>0.403570</td>\n",
              "      <td>0.275976</td>\n",
              "      <td>194.911169</td>\n",
              "      <td>0.055915</td>\n",
              "    </tr>\n",
              "    <tr>\n",
              "      <th>min</th>\n",
              "      <td>0.000000</td>\n",
              "      <td>-23.066842</td>\n",
              "      <td>-25.640527</td>\n",
              "      <td>-12.389545</td>\n",
              "      <td>-4.657545</td>\n",
              "      <td>-32.092129</td>\n",
              "      <td>-7.574798</td>\n",
              "      <td>-12.968670</td>\n",
              "      <td>-23.632502</td>\n",
              "      <td>-3.878658</td>\n",
              "      <td>...</td>\n",
              "      <td>-11.468435</td>\n",
              "      <td>-8.527145</td>\n",
              "      <td>-15.144340</td>\n",
              "      <td>-2.512377</td>\n",
              "      <td>-2.577363</td>\n",
              "      <td>-1.338556</td>\n",
              "      <td>-7.976100</td>\n",
              "      <td>-3.054085</td>\n",
              "      <td>0.000000</td>\n",
              "      <td>0.000000</td>\n",
              "    </tr>\n",
              "    <tr>\n",
              "      <th>25%</th>\n",
              "      <td>1531.000000</td>\n",
              "      <td>-1.046362</td>\n",
              "      <td>-0.237359</td>\n",
              "      <td>0.372435</td>\n",
              "      <td>-0.687521</td>\n",
              "      <td>-0.630525</td>\n",
              "      <td>-0.655399</td>\n",
              "      <td>-0.517733</td>\n",
              "      <td>-0.199794</td>\n",
              "      <td>-0.085635</td>\n",
              "      <td>...</td>\n",
              "      <td>-0.271837</td>\n",
              "      <td>-0.581473</td>\n",
              "      <td>-0.182989</td>\n",
              "      <td>-0.340419</td>\n",
              "      <td>-0.161009</td>\n",
              "      <td>-0.363180</td>\n",
              "      <td>-0.063198</td>\n",
              "      <td>-0.019081</td>\n",
              "      <td>4.617500</td>\n",
              "      <td>0.000000</td>\n",
              "    </tr>\n",
              "    <tr>\n",
              "      <th>50%</th>\n",
              "      <td>3635.000000</td>\n",
              "      <td>-0.416341</td>\n",
              "      <td>0.335446</td>\n",
              "      <td>0.948695</td>\n",
              "      <td>0.223379</td>\n",
              "      <td>-0.107337</td>\n",
              "      <td>-0.148669</td>\n",
              "      <td>0.004732</td>\n",
              "      <td>0.016128</td>\n",
              "      <td>0.613170</td>\n",
              "      <td>...</td>\n",
              "      <td>-0.130344</td>\n",
              "      <td>-0.167048</td>\n",
              "      <td>-0.046107</td>\n",
              "      <td>0.089606</td>\n",
              "      <td>0.115418</td>\n",
              "      <td>-0.015260</td>\n",
              "      <td>0.007101</td>\n",
              "      <td>0.018443</td>\n",
              "      <td>15.950000</td>\n",
              "      <td>0.000000</td>\n",
              "    </tr>\n",
              "    <tr>\n",
              "      <th>75%</th>\n",
              "      <td>6662.000000</td>\n",
              "      <td>1.122758</td>\n",
              "      <td>0.950582</td>\n",
              "      <td>1.597949</td>\n",
              "      <td>1.131542</td>\n",
              "      <td>0.405082</td>\n",
              "      <td>0.555200</td>\n",
              "      <td>0.527353</td>\n",
              "      <td>0.307111</td>\n",
              "      <td>1.294087</td>\n",
              "      <td>...</td>\n",
              "      <td>0.044823</td>\n",
              "      <td>0.250886</td>\n",
              "      <td>0.086806</td>\n",
              "      <td>0.421015</td>\n",
              "      <td>0.361249</td>\n",
              "      <td>0.329322</td>\n",
              "      <td>0.144700</td>\n",
              "      <td>0.080563</td>\n",
              "      <td>54.910000</td>\n",
              "      <td>0.000000</td>\n",
              "    </tr>\n",
              "    <tr>\n",
              "      <th>max</th>\n",
              "      <td>10981.000000</td>\n",
              "      <td>1.685314</td>\n",
              "      <td>8.261750</td>\n",
              "      <td>4.101716</td>\n",
              "      <td>7.380245</td>\n",
              "      <td>11.974269</td>\n",
              "      <td>21.393069</td>\n",
              "      <td>34.303177</td>\n",
              "      <td>3.877662</td>\n",
              "      <td>10.392889</td>\n",
              "      <td>...</td>\n",
              "      <td>22.588989</td>\n",
              "      <td>4.534454</td>\n",
              "      <td>13.876221</td>\n",
              "      <td>3.200201</td>\n",
              "      <td>5.525093</td>\n",
              "      <td>3.517346</td>\n",
              "      <td>4.173387</td>\n",
              "      <td>4.860769</td>\n",
              "      <td>7712.430000</td>\n",
              "      <td>1.000000</td>\n",
              "    </tr>\n",
              "  </tbody>\n",
              "</table>\n",
              "<p>8 rows × 31 columns</p>\n",
              "</div>\n",
              "    <div class=\"colab-df-buttons\">\n",
              "\n",
              "  <div class=\"colab-df-container\">\n",
              "    <button class=\"colab-df-convert\" onclick=\"convertToInteractive('df-ec8ffcfc-365d-4eaa-9957-d8837d66170a')\"\n",
              "            title=\"Convert this dataframe to an interactive table.\"\n",
              "            style=\"display:none;\">\n",
              "\n",
              "  <svg xmlns=\"http://www.w3.org/2000/svg\" height=\"24px\" viewBox=\"0 -960 960 960\">\n",
              "    <path d=\"M120-120v-720h720v720H120Zm60-500h600v-160H180v160Zm220 220h160v-160H400v160Zm0 220h160v-160H400v160ZM180-400h160v-160H180v160Zm440 0h160v-160H620v160ZM180-180h160v-160H180v160Zm440 0h160v-160H620v160Z\"/>\n",
              "  </svg>\n",
              "    </button>\n",
              "\n",
              "  <style>\n",
              "    .colab-df-container {\n",
              "      display:flex;\n",
              "      gap: 12px;\n",
              "    }\n",
              "\n",
              "    .colab-df-convert {\n",
              "      background-color: #E8F0FE;\n",
              "      border: none;\n",
              "      border-radius: 50%;\n",
              "      cursor: pointer;\n",
              "      display: none;\n",
              "      fill: #1967D2;\n",
              "      height: 32px;\n",
              "      padding: 0 0 0 0;\n",
              "      width: 32px;\n",
              "    }\n",
              "\n",
              "    .colab-df-convert:hover {\n",
              "      background-color: #E2EBFA;\n",
              "      box-shadow: 0px 1px 2px rgba(60, 64, 67, 0.3), 0px 1px 3px 1px rgba(60, 64, 67, 0.15);\n",
              "      fill: #174EA6;\n",
              "    }\n",
              "\n",
              "    .colab-df-buttons div {\n",
              "      margin-bottom: 4px;\n",
              "    }\n",
              "\n",
              "    [theme=dark] .colab-df-convert {\n",
              "      background-color: #3B4455;\n",
              "      fill: #D2E3FC;\n",
              "    }\n",
              "\n",
              "    [theme=dark] .colab-df-convert:hover {\n",
              "      background-color: #434B5C;\n",
              "      box-shadow: 0px 1px 3px 1px rgba(0, 0, 0, 0.15);\n",
              "      filter: drop-shadow(0px 1px 2px rgba(0, 0, 0, 0.3));\n",
              "      fill: #FFFFFF;\n",
              "    }\n",
              "  </style>\n",
              "\n",
              "    <script>\n",
              "      const buttonEl =\n",
              "        document.querySelector('#df-ec8ffcfc-365d-4eaa-9957-d8837d66170a button.colab-df-convert');\n",
              "      buttonEl.style.display =\n",
              "        google.colab.kernel.accessAllowed ? 'block' : 'none';\n",
              "\n",
              "      async function convertToInteractive(key) {\n",
              "        const element = document.querySelector('#df-ec8ffcfc-365d-4eaa-9957-d8837d66170a');\n",
              "        const dataTable =\n",
              "          await google.colab.kernel.invokeFunction('convertToInteractive',\n",
              "                                                    [key], {});\n",
              "        if (!dataTable) return;\n",
              "\n",
              "        const docLinkHtml = 'Like what you see? Visit the ' +\n",
              "          '<a target=\"_blank\" href=https://colab.research.google.com/notebooks/data_table.ipynb>data table notebook</a>'\n",
              "          + ' to learn more about interactive tables.';\n",
              "        element.innerHTML = '';\n",
              "        dataTable['output_type'] = 'display_data';\n",
              "        await google.colab.output.renderOutput(dataTable, element);\n",
              "        const docLink = document.createElement('div');\n",
              "        docLink.innerHTML = docLinkHtml;\n",
              "        element.appendChild(docLink);\n",
              "      }\n",
              "    </script>\n",
              "  </div>\n",
              "\n",
              "\n",
              "<div id=\"df-28bd5a8a-507c-4d7f-b323-be66fccf154b\">\n",
              "  <button class=\"colab-df-quickchart\" onclick=\"quickchart('df-28bd5a8a-507c-4d7f-b323-be66fccf154b')\"\n",
              "            title=\"Suggest charts.\"\n",
              "            style=\"display:none;\">\n",
              "\n",
              "<svg xmlns=\"http://www.w3.org/2000/svg\" height=\"24px\"viewBox=\"0 0 24 24\"\n",
              "     width=\"24px\">\n",
              "    <g>\n",
              "        <path d=\"M19 3H5c-1.1 0-2 .9-2 2v14c0 1.1.9 2 2 2h14c1.1 0 2-.9 2-2V5c0-1.1-.9-2-2-2zM9 17H7v-7h2v7zm4 0h-2V7h2v10zm4 0h-2v-4h2v4z\"/>\n",
              "    </g>\n",
              "</svg>\n",
              "  </button>\n",
              "\n",
              "<style>\n",
              "  .colab-df-quickchart {\n",
              "      --bg-color: #E8F0FE;\n",
              "      --fill-color: #1967D2;\n",
              "      --hover-bg-color: #E2EBFA;\n",
              "      --hover-fill-color: #174EA6;\n",
              "      --disabled-fill-color: #AAA;\n",
              "      --disabled-bg-color: #DDD;\n",
              "  }\n",
              "\n",
              "  [theme=dark] .colab-df-quickchart {\n",
              "      --bg-color: #3B4455;\n",
              "      --fill-color: #D2E3FC;\n",
              "      --hover-bg-color: #434B5C;\n",
              "      --hover-fill-color: #FFFFFF;\n",
              "      --disabled-bg-color: #3B4455;\n",
              "      --disabled-fill-color: #666;\n",
              "  }\n",
              "\n",
              "  .colab-df-quickchart {\n",
              "    background-color: var(--bg-color);\n",
              "    border: none;\n",
              "    border-radius: 50%;\n",
              "    cursor: pointer;\n",
              "    display: none;\n",
              "    fill: var(--fill-color);\n",
              "    height: 32px;\n",
              "    padding: 0;\n",
              "    width: 32px;\n",
              "  }\n",
              "\n",
              "  .colab-df-quickchart:hover {\n",
              "    background-color: var(--hover-bg-color);\n",
              "    box-shadow: 0 1px 2px rgba(60, 64, 67, 0.3), 0 1px 3px 1px rgba(60, 64, 67, 0.15);\n",
              "    fill: var(--button-hover-fill-color);\n",
              "  }\n",
              "\n",
              "  .colab-df-quickchart-complete:disabled,\n",
              "  .colab-df-quickchart-complete:disabled:hover {\n",
              "    background-color: var(--disabled-bg-color);\n",
              "    fill: var(--disabled-fill-color);\n",
              "    box-shadow: none;\n",
              "  }\n",
              "\n",
              "  .colab-df-spinner {\n",
              "    border: 2px solid var(--fill-color);\n",
              "    border-color: transparent;\n",
              "    border-bottom-color: var(--fill-color);\n",
              "    animation:\n",
              "      spin 1s steps(1) infinite;\n",
              "  }\n",
              "\n",
              "  @keyframes spin {\n",
              "    0% {\n",
              "      border-color: transparent;\n",
              "      border-bottom-color: var(--fill-color);\n",
              "      border-left-color: var(--fill-color);\n",
              "    }\n",
              "    20% {\n",
              "      border-color: transparent;\n",
              "      border-left-color: var(--fill-color);\n",
              "      border-top-color: var(--fill-color);\n",
              "    }\n",
              "    30% {\n",
              "      border-color: transparent;\n",
              "      border-left-color: var(--fill-color);\n",
              "      border-top-color: var(--fill-color);\n",
              "      border-right-color: var(--fill-color);\n",
              "    }\n",
              "    40% {\n",
              "      border-color: transparent;\n",
              "      border-right-color: var(--fill-color);\n",
              "      border-top-color: var(--fill-color);\n",
              "    }\n",
              "    60% {\n",
              "      border-color: transparent;\n",
              "      border-right-color: var(--fill-color);\n",
              "    }\n",
              "    80% {\n",
              "      border-color: transparent;\n",
              "      border-right-color: var(--fill-color);\n",
              "      border-bottom-color: var(--fill-color);\n",
              "    }\n",
              "    90% {\n",
              "      border-color: transparent;\n",
              "      border-bottom-color: var(--fill-color);\n",
              "    }\n",
              "  }\n",
              "</style>\n",
              "\n",
              "  <script>\n",
              "    async function quickchart(key) {\n",
              "      const quickchartButtonEl =\n",
              "        document.querySelector('#' + key + ' button');\n",
              "      quickchartButtonEl.disabled = true;  // To prevent multiple clicks.\n",
              "      quickchartButtonEl.classList.add('colab-df-spinner');\n",
              "      try {\n",
              "        const charts = await google.colab.kernel.invokeFunction(\n",
              "            'suggestCharts', [key], {});\n",
              "      } catch (error) {\n",
              "        console.error('Error during call to suggestCharts:', error);\n",
              "      }\n",
              "      quickchartButtonEl.classList.remove('colab-df-spinner');\n",
              "      quickchartButtonEl.classList.add('colab-df-quickchart-complete');\n",
              "    }\n",
              "    (() => {\n",
              "      let quickchartButtonEl =\n",
              "        document.querySelector('#df-28bd5a8a-507c-4d7f-b323-be66fccf154b button');\n",
              "      quickchartButtonEl.style.display =\n",
              "        google.colab.kernel.accessAllowed ? 'block' : 'none';\n",
              "    })();\n",
              "  </script>\n",
              "</div>\n",
              "    </div>\n",
              "  </div>\n"
            ]
          },
          "metadata": {},
          "execution_count": 6
        }
      ],
      "source": [
        "df.describe()"
      ]
    },
    {
      "cell_type": "code",
      "execution_count": null,
      "metadata": {
        "id": "9SYzpjY-Zy0F"
      },
      "outputs": [],
      "source": [
        "#knowing abiut the data"
      ]
    },
    {
      "cell_type": "code",
      "execution_count": null,
      "metadata": {
        "colab": {
          "base_uri": "https://localhost:8080/"
        },
        "id": "tM8OyqNocH2v",
        "outputId": "614a64ef-cd1e-4086-efd0-39fe4c05f6d8"
      },
      "outputs": [
        {
          "output_type": "stream",
          "name": "stdout",
          "text": [
            "      Time        V1        V2        V3        V4        V5        V6  \\\n",
            "541    406 -2.312227  1.951992 -1.609851  3.997906 -0.522188 -1.426545   \n",
            "623    472 -3.043541 -3.157307  1.088463  2.288644  1.359805 -1.064823   \n",
            "4920  4462 -2.303350  1.759247 -0.359745  2.330243 -0.821628 -0.075788   \n",
            "6108  6986 -4.397974  1.358367 -2.592844  2.679787 -1.128131 -1.706536   \n",
            "6329  7519  1.234235  3.019740 -4.304597  4.732795  3.624201 -1.357746   \n",
            "6331  7526  0.008430  4.137837 -6.240697  6.675732  0.768307 -3.353060   \n",
            "6334  7535  0.026779  4.132464 -6.560600  6.348557  1.329666 -2.513479   \n",
            "6336  7543  0.329594  3.712889 -5.775935  6.078266  1.667359 -2.420168   \n",
            "6338  7551  0.316459  3.809076 -5.615159  6.047445  1.554026 -2.651353   \n",
            "6427  7610  0.725646  2.300894 -5.329976  4.007683 -1.730411 -1.732193   \n",
            "6446  7672  0.702710  2.426433 -5.234513  4.416661 -2.170806 -2.667554   \n",
            "6472  7740  1.023874  2.001485 -4.769752  3.819195 -1.271754 -1.734662   \n",
            "6529  7891 -1.585505  3.261585 -4.137422  2.357096 -1.405043 -1.879437   \n",
            "6609  8090 -1.783229  3.402794 -3.822742  2.625368 -1.976415 -2.731689   \n",
            "6641  8169  0.857321  4.093912 -7.423894  7.380245  0.973366 -2.730762   \n",
            "6717  8408 -1.813280  4.917851 -5.926130  5.701500  1.204393 -3.035138   \n",
            "6719  8415 -0.251471  4.313523 -6.891438  6.796797  0.616297 -2.966327   \n",
            "6734  8451  0.314597  2.660670 -5.920037  4.522500 -2.315027 -2.278352   \n",
            "6774  8528  0.447396  2.481954 -5.660814  4.455923 -2.443780 -2.185040   \n",
            "6820  8614 -2.169929  3.639654 -4.508498  2.730668 -2.122693 -2.341017   \n",
            "6870  8757 -1.863756  3.442644 -4.468260  2.805336 -2.118412 -2.332285   \n",
            "6882  8808 -4.617217  1.695694 -3.114372  4.328199 -1.873257 -0.989908   \n",
            "6899  8878 -2.661802  5.856393 -7.653616  6.379742 -0.060712 -3.131550   \n",
            "6903  8886 -2.535852  5.793644 -7.618463  6.395830 -0.065210 -3.136372   \n",
            "6971  9064 -3.499108  0.258555 -4.489558  4.853894 -6.974522  3.628382   \n",
            "\n",
            "            V7        V8        V9  ...       V21       V22       V23  \\\n",
            "541  -2.537387  1.391657 -2.770089  ...  0.517232 -0.035049 -0.465211   \n",
            "623   0.325574 -0.067794 -0.270953  ...  0.661696  0.435477  1.375966   \n",
            "4920  0.562320 -0.399147 -0.238253  ... -0.294166 -0.932391  0.172726   \n",
            "6108 -3.496197 -0.248778 -0.247768  ...  0.573574  0.176968 -0.436207   \n",
            "6329  1.713445 -0.496358 -1.282858  ... -0.379068 -0.704181 -0.656805   \n",
            "6331 -1.631735  0.154612 -2.795892  ...  0.364514 -0.608057 -0.539528   \n",
            "6334 -1.689102  0.303253 -3.139409  ...  0.370509 -0.576752 -0.669605   \n",
            "6336 -0.812891  0.133080 -2.214311  ...  0.156617 -0.652450 -0.551572   \n",
            "6338 -0.746579  0.055586 -2.678679  ...  0.208828 -0.511747 -0.583813   \n",
            "6427 -3.968593  1.063728 -0.486097  ...  0.589669  0.109541  0.601045   \n",
            "6446 -3.878088  0.911337 -0.166199  ...  0.551180 -0.009802  0.721698   \n",
            "6472 -3.059245  0.889805  0.415382  ...  0.343283 -0.054196  0.709654   \n",
            "6529 -3.513687  1.515607 -1.207166  ...  0.501543 -0.546869 -0.076584   \n",
            "6609 -3.430559  1.413204 -0.776941  ...  0.454032 -0.577526  0.045967   \n",
            "6641 -1.496497  0.543015 -2.351190  ...  0.375026  0.145400  0.240603   \n",
            "6717 -1.713402  0.561257 -3.796354  ...  0.615642 -0.406427 -0.737018   \n",
            "6719 -2.436653  0.489328 -3.371639  ...  0.536892 -0.546126 -0.605240   \n",
            "6734 -4.684054  1.202270 -0.694696  ...  0.743314  0.064038  0.677842   \n",
            "6774 -4.716143  1.249803 -0.718326  ...  0.756053  0.140168  0.665411   \n",
            "6820 -4.235253  1.703538 -1.305279  ...  0.645103 -0.503529 -0.000523   \n",
            "6870 -4.261237  1.701682 -1.439396  ...  0.667927 -0.516242 -0.012218   \n",
            "6882 -4.577265  0.472216  0.472017  ...  0.481830  0.146023  0.117039   \n",
            "6899 -3.103570  1.778492 -3.831154  ...  0.734775 -0.435901 -0.384766   \n",
            "6903 -3.104557  1.823233 -3.878658  ...  0.716720 -0.448060 -0.402407   \n",
            "6971  5.431271 -1.946734 -0.775680  ... -1.052368  0.204817 -2.119007   \n",
            "\n",
            "           V24       V25       V26       V27       V28   Amount  Class  \n",
            "541   0.320198  0.044519  0.177840  0.261145 -0.143276     0.00    1.0  \n",
            "623  -0.293803  0.279798 -0.145362 -0.252773  0.035764   529.00    1.0  \n",
            "4920 -0.087330 -0.156114 -0.542628  0.039566 -0.153029   239.93    1.0  \n",
            "6108 -0.053502  0.252405 -0.657488 -0.827136  0.849573    59.00    1.0  \n",
            "6329 -1.632653  1.488901  0.566797 -0.010016  0.146793     1.00    1.0  \n",
            "6331  0.128940  1.488481  0.507963  0.735822  0.513574     1.00    1.0  \n",
            "6334 -0.759908  1.605056  0.540675  0.737040  0.496699     1.00    1.0  \n",
            "6336 -0.716522  1.415717  0.555265  0.530507  0.404474     1.00    1.0  \n",
            "6338 -0.219845  1.474753  0.491192  0.518868  0.402528     1.00    1.0  \n",
            "6427 -0.364700 -1.843078  0.351909  0.594550  0.099372     1.00    1.0  \n",
            "6446  0.473246 -1.959304  0.319476  0.600485  0.129305     1.00    1.0  \n",
            "6472 -0.372216 -2.032068  0.366778  0.395171  0.020206     1.00    1.0  \n",
            "6529 -0.425550  0.123644  0.321985  0.264028  0.132817     1.00    1.0  \n",
            "6609  0.461700  0.044146  0.305704  0.530981  0.243746     1.00    1.0  \n",
            "6641 -0.234649 -1.004881  0.435832  0.618324  0.148469     1.00    1.0  \n",
            "6717 -0.279642  1.106766  0.323885  0.894767  0.569519     1.00    1.0  \n",
            "6719 -0.263743  1.539916  0.523574  0.891025  0.572741     1.00    1.0  \n",
            "6734  0.083008 -1.911034  0.322188  0.620867  0.185030     1.00    1.0  \n",
            "6774  0.131464 -1.908217  0.334808  0.748534  0.175414     1.00    1.0  \n",
            "6820  0.071696  0.092007  0.308498  0.552591  0.298954     1.00    1.0  \n",
            "6870  0.070614  0.058504  0.304883  0.418012  0.208858     1.00    1.0  \n",
            "6882 -0.217565 -0.138776 -0.424453 -1.002041  0.890780     1.10    1.0  \n",
            "6899 -0.286016  1.007934  0.413196  0.280284  0.303937     1.00    1.0  \n",
            "6903 -0.288835  1.011752  0.425965  0.413140  0.308205     1.00    1.0  \n",
            "6971  0.170279 -0.393844  0.296367  1.985913 -0.900452  1809.68    1.0  \n",
            "\n",
            "[25 rows x 31 columns]\n"
          ]
        }
      ],
      "source": [
        "fraud=df[df['Class']==1]\n",
        "print(fraud)"
      ]
    },
    {
      "cell_type": "code",
      "execution_count": null,
      "metadata": {
        "colab": {
          "base_uri": "https://localhost:8080/"
        },
        "id": "_wKT7SJYcxuo",
        "outputId": "a1735d13-a7d0-4b62-ef5e-c290e35f2567"
      },
      "outputs": [
        {
          "output_type": "stream",
          "name": "stdout",
          "text": [
            "       Time        V1        V2        V3        V4        V5        V6  \\\n",
            "0         0 -1.359807 -0.072781  2.536347  1.378155 -0.338321  0.462388   \n",
            "1         0  1.191857  0.266151  0.166480  0.448154  0.060018 -0.082361   \n",
            "2         1 -1.358354 -1.340163  1.773209  0.379780 -0.503198  1.800499   \n",
            "3         1 -0.966272 -0.185226  1.792993 -0.863291 -0.010309  1.247203   \n",
            "4         2 -1.158233  0.877737  1.548718  0.403034 -0.407193  0.095921   \n",
            "...     ...       ...       ...       ...       ...       ...       ...   \n",
            "7967  10980 -0.046786  0.030050  2.037794 -0.670130 -0.727283 -0.588537   \n",
            "7968  10980  1.284388 -0.013181  0.646174  0.198985 -0.568675 -0.526121   \n",
            "7969  10981  1.190428 -0.122329  0.954945  0.267101 -0.971026 -0.652279   \n",
            "7970  10981 -0.725175  0.298202  1.824761 -2.587170  0.283605 -0.016617   \n",
            "7971  10981  1.226153 -0.129645  0.735197  0.142752 -0.703245 -0.349641   \n",
            "\n",
            "            V7        V8        V9  ...       V21       V22       V23  \\\n",
            "0     0.239599  0.098698  0.363787  ... -0.018307  0.277838 -0.110474   \n",
            "1    -0.078803  0.085102 -0.255425  ... -0.225775 -0.638672  0.101288   \n",
            "2     0.791461  0.247676 -1.514654  ...  0.247998  0.771679  0.909412   \n",
            "3     0.237609  0.377436 -1.387024  ... -0.108300  0.005274 -0.190321   \n",
            "4     0.592941 -0.270533  0.817739  ... -0.009431  0.798278 -0.137458   \n",
            "...        ...       ...       ...  ...       ...       ...       ...   \n",
            "7967 -0.067966 -0.370767  0.228931  ...  0.264364  1.078896 -0.097768   \n",
            "7968 -0.448235 -0.167709  1.773223  ... -0.101868 -0.030298 -0.081412   \n",
            "7969 -0.612992 -0.003909  1.633117  ... -0.015001  0.127027  0.012079   \n",
            "7970  0.153659  0.045084 -0.197611  ... -0.017097 -0.070535 -0.442861   \n",
            "7971 -0.612641  0.020507  1.648986  ... -0.047936  0.040196 -0.057391   \n",
            "\n",
            "           V24       V25       V26       V27       V28  Amount  Class  \n",
            "0     0.066928  0.128539 -0.189115  0.133558 -0.021053  149.62    0.0  \n",
            "1    -0.339846  0.167170  0.125895 -0.008983  0.014724    2.69    0.0  \n",
            "2    -0.689281 -0.327642 -0.139097 -0.055353 -0.059752  378.66    0.0  \n",
            "3    -1.175575  0.647376 -0.221929  0.062723  0.061458  123.50    0.0  \n",
            "4     0.141267 -0.206010  0.502292  0.219422  0.215153   69.99    0.0  \n",
            "...        ...       ...       ...       ...       ...     ...    ...  \n",
            "7967  0.375679 -0.500253 -0.159051 -0.018267 -0.061794   39.00    0.0  \n",
            "7968 -0.123281  0.278808  1.064001 -0.090181  0.000481   15.95    0.0  \n",
            "7969  0.534409  0.112179  1.004483 -0.100188 -0.004774   14.95    0.0  \n",
            "7970 -0.895837  0.624743 -0.510601 -0.031142  0.025564   12.95    0.0  \n",
            "7971 -0.012386  0.187685  1.037786 -0.100081 -0.009869   15.95    0.0  \n",
            "\n",
            "[7947 rows x 31 columns]\n"
          ]
        }
      ],
      "source": [
        "valid=df[df['Class']==0]\n",
        "print(valid)"
      ]
    },
    {
      "cell_type": "code",
      "execution_count": null,
      "metadata": {
        "colab": {
          "base_uri": "https://localhost:8080/"
        },
        "id": "6CiLFZn2dLl9",
        "outputId": "ba84b621-5c69-4703-9bc6-10a705deec65"
      },
      "outputs": [
        {
          "output_type": "stream",
          "name": "stdout",
          "text": [
            "3.1458411979363285e-05\n"
          ]
        }
      ],
      "source": [
        "outliers=len(fraud)/len(valid)\n",
        "print(outliers/100)"
      ]
    },
    {
      "cell_type": "code",
      "execution_count": null,
      "metadata": {
        "colab": {
          "base_uri": "https://localhost:8080/"
        },
        "id": "hBTj_ZZVdaf2",
        "outputId": "b3066586-738d-41cd-eae1-a3a3548f36ea"
      },
      "outputs": [
        {
          "output_type": "stream",
          "name": "stdout",
          "text": [
            "fraud cases are 25\n"
          ]
        }
      ],
      "source": [
        "print('fraud cases are',len(fraud))"
      ]
    },
    {
      "cell_type": "code",
      "execution_count": null,
      "metadata": {
        "colab": {
          "base_uri": "https://localhost:8080/"
        },
        "id": "S_XZy6H_dp2K",
        "outputId": "473698a5-3ed0-45e3-ad14-96cee8df5320"
      },
      "outputs": [
        {
          "output_type": "stream",
          "name": "stdout",
          "text": [
            "successful valid transactions are 7947\n"
          ]
        }
      ],
      "source": [
        "print('successful valid transactions are',len(valid))"
      ]
    },
    {
      "cell_type": "code",
      "execution_count": null,
      "metadata": {
        "id": "Xjk0G4ISdwpH"
      },
      "outputs": [],
      "source": [
        "#amount for fraud cases"
      ]
    },
    {
      "cell_type": "code",
      "execution_count": null,
      "metadata": {
        "colab": {
          "base_uri": "https://localhost:8080/"
        },
        "id": "EWEqbqUyecp7",
        "outputId": "89c5dce8-72ca-4df3-92a8-2e521ebcbed5"
      },
      "outputs": [
        {
          "output_type": "execute_result",
          "data": {
            "text/plain": [
              "count      25.000000\n",
              "mean      106.308400\n",
              "std       372.676883\n",
              "min         0.000000\n",
              "25%         1.000000\n",
              "50%         1.000000\n",
              "75%         1.000000\n",
              "max      1809.680000\n",
              "Name: Amount, dtype: float64"
            ]
          },
          "metadata": {},
          "execution_count": 14
        }
      ],
      "source": [
        "fraud.Amount.describe()"
      ]
    },
    {
      "cell_type": "code",
      "execution_count": null,
      "metadata": {
        "id": "d-HPnIzHeggq"
      },
      "outputs": [],
      "source": [
        "#amount fo valid transaction cases"
      ]
    },
    {
      "cell_type": "code",
      "execution_count": null,
      "metadata": {
        "colab": {
          "base_uri": "https://localhost:8080/"
        },
        "id": "qQ10JqqPemkb",
        "outputId": "dd2f717a-b336-40da-860d-0a166494bc08"
      },
      "outputs": [
        {
          "output_type": "execute_result",
          "data": {
            "text/plain": [
              "count    7947.000000\n",
              "mean       65.284891\n",
              "std       194.126547\n",
              "min         0.000000\n",
              "25%         4.795000\n",
              "50%        15.950000\n",
              "75%        54.990000\n",
              "max      7712.430000\n",
              "Name: Amount, dtype: float64"
            ]
          },
          "metadata": {},
          "execution_count": 16
        }
      ],
      "source": [
        "valid.Amount.describe()"
      ]
    },
    {
      "cell_type": "code",
      "execution_count": null,
      "metadata": {
        "id": "TxeZh-RIepiz"
      },
      "outputs": [],
      "source": [
        "#knowing the correlation of the  features in the dataset"
      ]
    },
    {
      "cell_type": "code",
      "source": [
        "corr=df.corr()\n",
        "sns.heatmap(corr,vmax=.8,square=True)\n",
        "plt.show()"
      ],
      "metadata": {
        "colab": {
          "base_uri": "https://localhost:8080/",
          "height": 458
        },
        "id": "BOg-_dqC93Pc",
        "outputId": "f2c87b64-8443-490f-f0f3-ef45aab24f1e"
      },
      "execution_count": null,
      "outputs": [
        {
          "output_type": "display_data",
          "data": {
            "text/plain": [
              "<Figure size 640x480 with 2 Axes>"
            ],
            "image/png": "[encoded data removed]"
          },
          "metadata": {}
        }
      ]
    },
    {
      "cell_type": "code",
      "source": [
        "#checking whether the columns consists of null values are not"
      ],
      "metadata": {
        "id": "xEbJ1wtiCAbz"
      },
      "execution_count": 25,
      "outputs": []
    },
    {
      "cell_type": "code",
      "source": [
        "df.isnull().sum()"
      ],
      "metadata": {
        "colab": {
          "base_uri": "https://localhost:8080/"
        },
        "id": "m-SmPaX6CJQS",
        "outputId": "b5ce0a22-1dc7-4eb3-a642-4a86dfa77085"
      },
      "execution_count": 27,
      "outputs": [
        {
          "output_type": "execute_result",
          "data": {
            "text/plain": [
              "Time      0\n",
              "V1        0\n",
              "V2        0\n",
              "V3        0\n",
              "V4        0\n",
              "V5        0\n",
              "V6        0\n",
              "V7        0\n",
              "V8        0\n",
              "V9        0\n",
              "V10       0\n",
              "V11       0\n",
              "V12       0\n",
              "V13       0\n",
              "V14       0\n",
              "V15       1\n",
              "V16       1\n",
              "V17       1\n",
              "V18       1\n",
              "V19       1\n",
              "V20       1\n",
              "V21       1\n",
              "V22       1\n",
              "V23       1\n",
              "V24       1\n",
              "V25       1\n",
              "V26       1\n",
              "V27       1\n",
              "V28       1\n",
              "Amount    1\n",
              "Class     1\n",
              "dtype: int64"
            ]
          },
          "metadata": {},
          "execution_count": 27
        }
      ]
    },
    {
      "cell_type": "markdown",
      "source": [
        "null values are present in the dataset hence it effects the accuracy score of the model and model may performs very poor hence cleaning of dataset is very mandatory for the dataset.removing the null values from the dataset to to train the model well and apply the suitable model for it"
      ],
      "metadata": {
        "id": "Evc4U_YvCZZ4"
      }
    },
    {
      "cell_type": "code",
      "source": [
        "df.dropna(inplace=True)"
      ],
      "metadata": {
        "id": "k79u7EryCTiU"
      },
      "execution_count": 28,
      "outputs": []
    },
    {
      "cell_type": "code",
      "source": [
        "df.isnull().sum()# no more null values are present in the dataset"
      ],
      "metadata": {
        "colab": {
          "base_uri": "https://localhost:8080/"
        },
        "id": "9xboJyuyCTpX",
        "outputId": "4827fbc0-a581-48a6-9186-180c8dff7809"
      },
      "execution_count": 30,
      "outputs": [
        {
          "output_type": "execute_result",
          "data": {
            "text/plain": [
              "Time      0\n",
              "V1        0\n",
              "V2        0\n",
              "V3        0\n",
              "V4        0\n",
              "V5        0\n",
              "V6        0\n",
              "V7        0\n",
              "V8        0\n",
              "V9        0\n",
              "V10       0\n",
              "V11       0\n",
              "V12       0\n",
              "V13       0\n",
              "V14       0\n",
              "V15       0\n",
              "V16       0\n",
              "V17       0\n",
              "V18       0\n",
              "V19       0\n",
              "V20       0\n",
              "V21       0\n",
              "V22       0\n",
              "V23       0\n",
              "V24       0\n",
              "V25       0\n",
              "V26       0\n",
              "V27       0\n",
              "V28       0\n",
              "Amount    0\n",
              "Class     0\n",
              "dtype: int64"
            ]
          },
          "metadata": {},
          "execution_count": 30
        }
      ]
    },
    {
      "cell_type": "code",
      "source": [
        "#separating the x and y values to train and test the dataset and to apply the randomforestclassifier"
      ],
      "metadata": {
        "id": "B6-dGzt4-GFj"
      },
      "execution_count": 31,
      "outputs": []
    },
    {
      "cell_type": "code",
      "source": [
        "x=df.drop(['Class'],axis=1)\n",
        "x"
      ],
      "metadata": {
        "colab": {
          "base_uri": "https://localhost:8080/",
          "height": 443
        },
        "id": "T8uMiYzaAZVo",
        "outputId": "b495340e-e8f9-4925-dc1f-e0cc95def42f"
      },
      "execution_count": 32,
      "outputs": [
        {
          "output_type": "execute_result",
          "data": {
            "text/plain": [
              "       Time        V1        V2        V3        V4        V5        V6  \\\n",
              "0         0 -1.359807 -0.072781  2.536347  1.378155 -0.338321  0.462388   \n",
              "1         0  1.191857  0.266151  0.166480  0.448154  0.060018 -0.082361   \n",
              "2         1 -1.358354 -1.340163  1.773209  0.379780 -0.503198  1.800499   \n",
              "3         1 -0.966272 -0.185226  1.792993 -0.863291 -0.010309  1.247203   \n",
              "4         2 -1.158233  0.877737  1.548718  0.403034 -0.407193  0.095921   \n",
              "...     ...       ...       ...       ...       ...       ...       ...   \n",
              "7967  10980 -0.046786  0.030050  2.037794 -0.670130 -0.727283 -0.588537   \n",
              "7968  10980  1.284388 -0.013181  0.646174  0.198985 -0.568675 -0.526121   \n",
              "7969  10981  1.190428 -0.122329  0.954945  0.267101 -0.971026 -0.652279   \n",
              "7970  10981 -0.725175  0.298202  1.824761 -2.587170  0.283605 -0.016617   \n",
              "7971  10981  1.226153 -0.129645  0.735197  0.142752 -0.703245 -0.349641   \n",
              "\n",
              "            V7        V8        V9  ...       V20       V21       V22  \\\n",
              "0     0.239599  0.098698  0.363787  ...  0.251412 -0.018307  0.277838   \n",
              "1    -0.078803  0.085102 -0.255425  ... -0.069083 -0.225775 -0.638672   \n",
              "2     0.791461  0.247676 -1.514654  ...  0.524980  0.247998  0.771679   \n",
              "3     0.237609  0.377436 -1.387024  ... -0.208038 -0.108300  0.005274   \n",
              "4     0.592941 -0.270533  0.817739  ...  0.408542 -0.009431  0.798278   \n",
              "...        ...       ...       ...  ...       ...       ...       ...   \n",
              "7967 -0.067966 -0.370767  0.228931  ...  0.322583  0.264364  1.078896   \n",
              "7968 -0.448235 -0.167709  1.773223  ... -0.063281 -0.101868 -0.030298   \n",
              "7969 -0.612992 -0.003909  1.633117  ... -0.150267 -0.015001  0.127027   \n",
              "7970  0.153659  0.045084 -0.197611  ... -0.001388 -0.017097 -0.070535   \n",
              "7971 -0.612641  0.020507  1.648986  ... -0.122552 -0.047936  0.040196   \n",
              "\n",
              "           V23       V24       V25       V26       V27       V28  Amount  \n",
              "0    -0.110474  0.066928  0.128539 -0.189115  0.133558 -0.021053  149.62  \n",
              "1     0.101288 -0.339846  0.167170  0.125895 -0.008983  0.014724    2.69  \n",
              "2     0.909412 -0.689281 -0.327642 -0.139097 -0.055353 -0.059752  378.66  \n",
              "3    -0.190321 -1.175575  0.647376 -0.221929  0.062723  0.061458  123.50  \n",
              "4    -0.137458  0.141267 -0.206010  0.502292  0.219422  0.215153   69.99  \n",
              "...        ...       ...       ...       ...       ...       ...     ...  \n",
              "7967 -0.097768  0.375679 -0.500253 -0.159051 -0.018267 -0.061794   39.00  \n",
              "7968 -0.081412 -0.123281  0.278808  1.064001 -0.090181  0.000481   15.95  \n",
              "7969  0.012079  0.534409  0.112179  1.004483 -0.100188 -0.004774   14.95  \n",
              "7970 -0.442861 -0.895837  0.624743 -0.510601 -0.031142  0.025564   12.95  \n",
              "7971 -0.057391 -0.012386  0.187685  1.037786 -0.100081 -0.009869   15.95  \n",
              "\n",
              "[7972 rows x 30 columns]"
            ],
            "text/html": [
              "\n",
              "  <div id=\"df-d517f319-6904-4df6-b0a3-827c068f0d82\" class=\"colab-df-container\">\n",
              "    <div>\n",
              "<style scoped>\n",
              "    .dataframe tbody tr th:only-of-type {\n",
              "        vertical-align: middle;\n",
              "    }\n",
              "\n",
              "    .dataframe tbody tr th {\n",
              "        vertical-align: top;\n",
              "    }\n",
              "\n",
              "    .dataframe thead th {\n",
              "        text-align: right;\n",
              "    }\n",
              "</style>\n",
              "<table border=\"1\" class=\"dataframe\">\n",
              "  <thead>\n",
              "    <tr style=\"text-align: right;\">\n",
              "      <th></th>\n",
              "      <th>Time</th>\n",
              "      <th>V1</th>\n",
              "      <th>V2</th>\n",
              "      <th>V3</th>\n",
              "      <th>V4</th>\n",
              "      <th>V5</th>\n",
              "      <th>V6</th>\n",
              "      <th>V7</th>\n",
              "      <th>V8</th>\n",
              "      <th>V9</th>\n",
              "      <th>...</th>\n",
              "      <th>V20</th>\n",
              "      <th>V21</th>\n",
              "      <th>V22</th>\n",
              "      <th>V23</th>\n",
              "      <th>V24</th>\n",
              "      <th>V25</th>\n",
              "      <th>V26</th>\n",
              "      <th>V27</th>\n",
              "      <th>V28</th>\n",
              "      <th>Amount</th>\n",
              "    </tr>\n",
              "  </thead>\n",
              "  <tbody>\n",
              "    <tr>\n",
              "      <th>0</th>\n",
              "      <td>0</td>\n",
              "      <td>-1.359807</td>\n",
              "      <td>-0.072781</td>\n",
              "      <td>2.536347</td>\n",
              "      <td>1.378155</td>\n",
              "      <td>-0.338321</td>\n",
              "      <td>0.462388</td>\n",
              "      <td>0.239599</td>\n",
              "      <td>0.098698</td>\n",
              "      <td>0.363787</td>\n",
              "      <td>...</td>\n",
              "      <td>0.251412</td>\n",
              "      <td>-0.018307</td>\n",
              "      <td>0.277838</td>\n",
              "      <td>-0.110474</td>\n",
              "      <td>0.066928</td>\n",
              "      <td>0.128539</td>\n",
              "      <td>-0.189115</td>\n",
              "      <td>0.133558</td>\n",
              "      <td>-0.021053</td>\n",
              "      <td>149.62</td>\n",
              "    </tr>\n",
              "    <tr>\n",
              "      <th>1</th>\n",
              "      <td>0</td>\n",
              "      <td>1.191857</td>\n",
              "      <td>0.266151</td>\n",
              "      <td>0.166480</td>\n",
              "      <td>0.448154</td>\n",
              "      <td>0.060018</td>\n",
              "      <td>-0.082361</td>\n",
              "      <td>-0.078803</td>\n",
              "      <td>0.085102</td>\n",
              "      <td>-0.255425</td>\n",
              "      <td>...</td>\n",
              "      <td>-0.069083</td>\n",
              "      <td>-0.225775</td>\n",
              "      <td>-0.638672</td>\n",
              "      <td>0.101288</td>\n",
              "      <td>-0.339846</td>\n",
              "      <td>0.167170</td>\n",
              "      <td>0.125895</td>\n",
              "      <td>-0.008983</td>\n",
              "      <td>0.014724</td>\n",
              "      <td>2.69</td>\n",
              "    </tr>\n",
              "    <tr>\n",
              "      <th>2</th>\n",
              "      <td>1</td>\n",
              "      <td>-1.358354</td>\n",
              "      <td>-1.340163</td>\n",
              "      <td>1.773209</td>\n",
              "      <td>0.379780</td>\n",
              "      <td>-0.503198</td>\n",
              "      <td>1.800499</td>\n",
              "      <td>0.791461</td>\n",
              "      <td>0.247676</td>\n",
              "      <td>-1.514654</td>\n",
              "      <td>...</td>\n",
              "      <td>0.524980</td>\n",
              "      <td>0.247998</td>\n",
              "      <td>0.771679</td>\n",
              "      <td>0.909412</td>\n",
              "      <td>-0.689281</td>\n",
              "      <td>-0.327642</td>\n",
              "      <td>-0.139097</td>\n",
              "      <td>-0.055353</td>\n",
              "      <td>-0.059752</td>\n",
              "      <td>378.66</td>\n",
              "    </tr>\n",
              "    <tr>\n",
              "      <th>3</th>\n",
              "      <td>1</td>\n",
              "      <td>-0.966272</td>\n",
              "      <td>-0.185226</td>\n",
              "      <td>1.792993</td>\n",
              "      <td>-0.863291</td>\n",
              "      <td>-0.010309</td>\n",
              "      <td>1.247203</td>\n",
              "      <td>0.237609</td>\n",
              "      <td>0.377436</td>\n",
              "      <td>-1.387024</td>\n",
              "      <td>...</td>\n",
              "      <td>-0.208038</td>\n",
              "      <td>-0.108300</td>\n",
              "      <td>0.005274</td>\n",
              "      <td>-0.190321</td>\n",
              "      <td>-1.175575</td>\n",
              "      <td>0.647376</td>\n",
              "      <td>-0.221929</td>\n",
              "      <td>0.062723</td>\n",
              "      <td>0.061458</td>\n",
              "      <td>123.50</td>\n",
              "    </tr>\n",
              "    <tr>\n",
              "      <th>4</th>\n",
              "      <td>2</td>\n",
              "      <td>-1.158233</td>\n",
              "      <td>0.877737</td>\n",
              "      <td>1.548718</td>\n",
              "      <td>0.403034</td>\n",
              "      <td>-0.407193</td>\n",
              "      <td>0.095921</td>\n",
              "      <td>0.592941</td>\n",
              "      <td>-0.270533</td>\n",
              "      <td>0.817739</td>\n",
              "      <td>...</td>\n",
              "      <td>0.408542</td>\n",
              "      <td>-0.009431</td>\n",
              "      <td>0.798278</td>\n",
              "      <td>-0.137458</td>\n",
              "      <td>0.141267</td>\n",
              "      <td>-0.206010</td>\n",
              "      <td>0.502292</td>\n",
              "      <td>0.219422</td>\n",
              "      <td>0.215153</td>\n",
              "      <td>69.99</td>\n",
              "    </tr>\n",
              "    <tr>\n",
              "      <th>...</th>\n",
              "      <td>...</td>\n",
              "      <td>...</td>\n",
              "      <td>...</td>\n",
              "      <td>...</td>\n",
              "      <td>...</td>\n",
              "      <td>...</td>\n",
              "      <td>...</td>\n",
              "      <td>...</td>\n",
              "      <td>...</td>\n",
              "      <td>...</td>\n",
              "      <td>...</td>\n",
              "      <td>...</td>\n",
              "      <td>...</td>\n",
              "      <td>...</td>\n",
              "      <td>...</td>\n",
              "      <td>...</td>\n",
              "      <td>...</td>\n",
              "      <td>...</td>\n",
              "      <td>...</td>\n",
              "      <td>...</td>\n",
              "      <td>...</td>\n",
              "    </tr>\n",
              "    <tr>\n",
              "      <th>7967</th>\n",
              "      <td>10980</td>\n",
              "      <td>-0.046786</td>\n",
              "      <td>0.030050</td>\n",
              "      <td>2.037794</td>\n",
              "      <td>-0.670130</td>\n",
              "      <td>-0.727283</td>\n",
              "      <td>-0.588537</td>\n",
              "      <td>-0.067966</td>\n",
              "      <td>-0.370767</td>\n",
              "      <td>0.228931</td>\n",
              "      <td>...</td>\n",
              "      <td>0.322583</td>\n",
              "      <td>0.264364</td>\n",
              "      <td>1.078896</td>\n",
              "      <td>-0.097768</td>\n",
              "      <td>0.375679</td>\n",
              "      <td>-0.500253</td>\n",
              "      <td>-0.159051</td>\n",
              "      <td>-0.018267</td>\n",
              "      <td>-0.061794</td>\n",
              "      <td>39.00</td>\n",
              "    </tr>\n",
              "    <tr>\n",
              "      <th>7968</th>\n",
              "      <td>10980</td>\n",
              "      <td>1.284388</td>\n",
              "      <td>-0.013181</td>\n",
              "      <td>0.646174</td>\n",
              "      <td>0.198985</td>\n",
              "      <td>-0.568675</td>\n",
              "      <td>-0.526121</td>\n",
              "      <td>-0.448235</td>\n",
              "      <td>-0.167709</td>\n",
              "      <td>1.773223</td>\n",
              "      <td>...</td>\n",
              "      <td>-0.063281</td>\n",
              "      <td>-0.101868</td>\n",
              "      <td>-0.030298</td>\n",
              "      <td>-0.081412</td>\n",
              "      <td>-0.123281</td>\n",
              "      <td>0.278808</td>\n",
              "      <td>1.064001</td>\n",
              "      <td>-0.090181</td>\n",
              "      <td>0.000481</td>\n",
              "      <td>15.95</td>\n",
              "    </tr>\n",
              "    <tr>\n",
              "      <th>7969</th>\n",
              "      <td>10981</td>\n",
              "      <td>1.190428</td>\n",
              "      <td>-0.122329</td>\n",
              "      <td>0.954945</td>\n",
              "      <td>0.267101</td>\n",
              "      <td>-0.971026</td>\n",
              "      <td>-0.652279</td>\n",
              "      <td>-0.612992</td>\n",
              "      <td>-0.003909</td>\n",
              "      <td>1.633117</td>\n",
              "      <td>...</td>\n",
              "      <td>-0.150267</td>\n",
              "      <td>-0.015001</td>\n",
              "      <td>0.127027</td>\n",
              "      <td>0.012079</td>\n",
              "      <td>0.534409</td>\n",
              "      <td>0.112179</td>\n",
              "      <td>1.004483</td>\n",
              "      <td>-0.100188</td>\n",
              "      <td>-0.004774</td>\n",
              "      <td>14.95</td>\n",
              "    </tr>\n",
              "    <tr>\n",
              "      <th>7970</th>\n",
              "      <td>10981</td>\n",
              "      <td>-0.725175</td>\n",
              "      <td>0.298202</td>\n",
              "      <td>1.824761</td>\n",
              "      <td>-2.587170</td>\n",
              "      <td>0.283605</td>\n",
              "      <td>-0.016617</td>\n",
              "      <td>0.153659</td>\n",
              "      <td>0.045084</td>\n",
              "      <td>-0.197611</td>\n",
              "      <td>...</td>\n",
              "      <td>-0.001388</td>\n",
              "      <td>-0.017097</td>\n",
              "      <td>-0.070535</td>\n",
              "      <td>-0.442861</td>\n",
              "      <td>-0.895837</td>\n",
              "      <td>0.624743</td>\n",
              "      <td>-0.510601</td>\n",
              "      <td>-0.031142</td>\n",
              "      <td>0.025564</td>\n",
              "      <td>12.95</td>\n",
              "    </tr>\n",
              "    <tr>\n",
              "      <th>7971</th>\n",
              "      <td>10981</td>\n",
              "      <td>1.226153</td>\n",
              "      <td>-0.129645</td>\n",
              "      <td>0.735197</td>\n",
              "      <td>0.142752</td>\n",
              "      <td>-0.703245</td>\n",
              "      <td>-0.349641</td>\n",
              "      <td>-0.612641</td>\n",
              "      <td>0.020507</td>\n",
              "      <td>1.648986</td>\n",
              "      <td>...</td>\n",
              "      <td>-0.122552</td>\n",
              "      <td>-0.047936</td>\n",
              "      <td>0.040196</td>\n",
              "      <td>-0.057391</td>\n",
              "      <td>-0.012386</td>\n",
              "      <td>0.187685</td>\n",
              "      <td>1.037786</td>\n",
              "      <td>-0.100081</td>\n",
              "      <td>-0.009869</td>\n",
              "      <td>15.95</td>\n",
              "    </tr>\n",
              "  </tbody>\n",
              "</table>\n",
              "<p>7972 rows × 30 columns</p>\n",
              "</div>\n",
              "    <div class=\"colab-df-buttons\">\n",
              "\n",
              "  <div class=\"colab-df-container\">\n",
              "    <button class=\"colab-df-convert\" onclick=\"convertToInteractive('df-d517f319-6904-4df6-b0a3-827c068f0d82')\"\n",
              "            title=\"Convert this dataframe to an interactive table.\"\n",
              "            style=\"display:none;\">\n",
              "\n",
              "  <svg xmlns=\"http://www.w3.org/2000/svg\" height=\"24px\" viewBox=\"0 -960 960 960\">\n",
              "    <path d=\"M120-120v-720h720v720H120Zm60-500h600v-160H180v160Zm220 220h160v-160H400v160Zm0 220h160v-160H400v160ZM180-400h160v-160H180v160Zm440 0h160v-160H620v160ZM180-180h160v-160H180v160Zm440 0h160v-160H620v160Z\"/>\n",
              "  </svg>\n",
              "    </button>\n",
              "\n",
              "  <style>\n",
              "    .colab-df-container {\n",
              "      display:flex;\n",
              "      gap: 12px;\n",
              "    }\n",
              "\n",
              "    .colab-df-convert {\n",
              "      background-color: #E8F0FE;\n",
              "      border: none;\n",
              "      border-radius: 50%;\n",
              "      cursor: pointer;\n",
              "      display: none;\n",
              "      fill: #1967D2;\n",
              "      height: 32px;\n",
              "      padding: 0 0 0 0;\n",
              "      width: 32px;\n",
              "    }\n",
              "\n",
              "    .colab-df-convert:hover {\n",
              "      background-color: #E2EBFA;\n",
              "      box-shadow: 0px 1px 2px rgba(60, 64, 67, 0.3), 0px 1px 3px 1px rgba(60, 64, 67, 0.15);\n",
              "      fill: #174EA6;\n",
              "    }\n",
              "\n",
              "    .colab-df-buttons div {\n",
              "      margin-bottom: 4px;\n",
              "    }\n",
              "\n",
              "    [theme=dark] .colab-df-convert {\n",
              "      background-color: #3B4455;\n",
              "      fill: #D2E3FC;\n",
              "    }\n",
              "\n",
              "    [theme=dark] .colab-df-convert:hover {\n",
              "      background-color: #434B5C;\n",
              "      box-shadow: 0px 1px 3px 1px rgba(0, 0, 0, 0.15);\n",
              "      filter: drop-shadow(0px 1px 2px rgba(0, 0, 0, 0.3));\n",
              "      fill: #FFFFFF;\n",
              "    }\n",
              "  </style>\n",
              "\n",
              "    <script>\n",
              "      const buttonEl =\n",
              "        document.querySelector('#df-d517f319-6904-4df6-b0a3-827c068f0d82 button.colab-df-convert');\n",
              "      buttonEl.style.display =\n",
              "        google.colab.kernel.accessAllowed ? 'block' : 'none';\n",
              "\n",
              "      async function convertToInteractive(key) {\n",
              "        const element = document.querySelector('#df-d517f319-6904-4df6-b0a3-827c068f0d82');\n",
              "        const dataTable =\n",
              "          await google.colab.kernel.invokeFunction('convertToInteractive',\n",
              "                                                    [key], {});\n",
              "        if (!dataTable) return;\n",
              "\n",
              "        const docLinkHtml = 'Like what you see? Visit the ' +\n",
              "          '<a target=\"_blank\" href=https://colab.research.google.com/notebooks/data_table.ipynb>data table notebook</a>'\n",
              "          + ' to learn more about interactive tables.';\n",
              "        element.innerHTML = '';\n",
              "        dataTable['output_type'] = 'display_data';\n",
              "        await google.colab.output.renderOutput(dataTable, element);\n",
              "        const docLink = document.createElement('div');\n",
              "        docLink.innerHTML = docLinkHtml;\n",
              "        element.appendChild(docLink);\n",
              "      }\n",
              "    </script>\n",
              "  </div>\n",
              "\n",
              "\n",
              "<div id=\"df-4ded8964-47ed-4328-a6e6-175b6385fa75\">\n",
              "  <button class=\"colab-df-quickchart\" onclick=\"quickchart('df-4ded8964-47ed-4328-a6e6-175b6385fa75')\"\n",
              "            title=\"Suggest charts.\"\n",
              "            style=\"display:none;\">\n",
              "\n",
              "<svg xmlns=\"http://www.w3.org/2000/svg\" height=\"24px\"viewBox=\"0 0 24 24\"\n",
              "     width=\"24px\">\n",
              "    <g>\n",
              "        <path d=\"M19 3H5c-1.1 0-2 .9-2 2v14c0 1.1.9 2 2 2h14c1.1 0 2-.9 2-2V5c0-1.1-.9-2-2-2zM9 17H7v-7h2v7zm4 0h-2V7h2v10zm4 0h-2v-4h2v4z\"/>\n",
              "    </g>\n",
              "</svg>\n",
              "  </button>\n",
              "\n",
              "<style>\n",
              "  .colab-df-quickchart {\n",
              "      --bg-color: #E8F0FE;\n",
              "      --fill-color: #1967D2;\n",
              "      --hover-bg-color: #E2EBFA;\n",
              "      --hover-fill-color: #174EA6;\n",
              "      --disabled-fill-color: #AAA;\n",
              "      --disabled-bg-color: #DDD;\n",
              "  }\n",
              "\n",
              "  [theme=dark] .colab-df-quickchart {\n",
              "      --bg-color: #3B4455;\n",
              "      --fill-color: #D2E3FC;\n",
              "      --hover-bg-color: #434B5C;\n",
              "      --hover-fill-color: #FFFFFF;\n",
              "      --disabled-bg-color: #3B4455;\n",
              "      --disabled-fill-color: #666;\n",
              "  }\n",
              "\n",
              "  .colab-df-quickchart {\n",
              "    background-color: var(--bg-color);\n",
              "    border: none;\n",
              "    border-radius: 50%;\n",
              "    cursor: pointer;\n",
              "    display: none;\n",
              "    fill: var(--fill-color);\n",
              "    height: 32px;\n",
              "    padding: 0;\n",
              "    width: 32px;\n",
              "  }\n",
              "\n",
              "  .colab-df-quickchart:hover {\n",
              "    background-color: var(--hover-bg-color);\n",
              "    box-shadow: 0 1px 2px rgba(60, 64, 67, 0.3), 0 1px 3px 1px rgba(60, 64, 67, 0.15);\n",
              "    fill: var(--button-hover-fill-color);\n",
              "  }\n",
              "\n",
              "  .colab-df-quickchart-complete:disabled,\n",
              "  .colab-df-quickchart-complete:disabled:hover {\n",
              "    background-color: var(--disabled-bg-color);\n",
              "    fill: var(--disabled-fill-color);\n",
              "    box-shadow: none;\n",
              "  }\n",
              "\n",
              "  .colab-df-spinner {\n",
              "    border: 2px solid var(--fill-color);\n",
              "    border-color: transparent;\n",
              "    border-bottom-color: var(--fill-color);\n",
              "    animation:\n",
              "      spin 1s steps(1) infinite;\n",
              "  }\n",
              "\n",
              "  @keyframes spin {\n",
              "    0% {\n",
              "      border-color: transparent;\n",
              "      border-bottom-color: var(--fill-color);\n",
              "      border-left-color: var(--fill-color);\n",
              "    }\n",
              "    20% {\n",
              "      border-color: transparent;\n",
              "      border-left-color: var(--fill-color);\n",
              "      border-top-color: var(--fill-color);\n",
              "    }\n",
              "    30% {\n",
              "      border-color: transparent;\n",
              "      border-left-color: var(--fill-color);\n",
              "      border-top-color: var(--fill-color);\n",
              "      border-right-color: var(--fill-color);\n",
              "    }\n",
              "    40% {\n",
              "      border-color: transparent;\n",
              "      border-right-color: var(--fill-color);\n",
              "      border-top-color: var(--fill-color);\n",
              "    }\n",
              "    60% {\n",
              "      border-color: transparent;\n",
              "      border-right-color: var(--fill-color);\n",
              "    }\n",
              "    80% {\n",
              "      border-color: transparent;\n",
              "      border-right-color: var(--fill-color);\n",
              "      border-bottom-color: var(--fill-color);\n",
              "    }\n",
              "    90% {\n",
              "      border-color: transparent;\n",
              "      border-bottom-color: var(--fill-color);\n",
              "    }\n",
              "  }\n",
              "</style>\n",
              "\n",
              "  <script>\n",
              "    async function quickchart(key) {\n",
              "      const quickchartButtonEl =\n",
              "        document.querySelector('#' + key + ' button');\n",
              "      quickchartButtonEl.disabled = true;  // To prevent multiple clicks.\n",
              "      quickchartButtonEl.classList.add('colab-df-spinner');\n",
              "      try {\n",
              "        const charts = await google.colab.kernel.invokeFunction(\n",
              "            'suggestCharts', [key], {});\n",
              "      } catch (error) {\n",
              "        console.error('Error during call to suggestCharts:', error);\n",
              "      }\n",
              "      quickchartButtonEl.classList.remove('colab-df-spinner');\n",
              "      quickchartButtonEl.classList.add('colab-df-quickchart-complete');\n",
              "    }\n",
              "    (() => {\n",
              "      let quickchartButtonEl =\n",
              "        document.querySelector('#df-4ded8964-47ed-4328-a6e6-175b6385fa75 button');\n",
              "      quickchartButtonEl.style.display =\n",
              "        google.colab.kernel.accessAllowed ? 'block' : 'none';\n",
              "    })();\n",
              "  </script>\n",
              "</div>\n",
              "    </div>\n",
              "  </div>\n"
            ]
          },
          "metadata": {},
          "execution_count": 32
        }
      ]
    },
    {
      "cell_type": "code",
      "source": [
        "x.shape"
      ],
      "metadata": {
        "id": "_VMFzN40AfoB",
        "colab": {
          "base_uri": "https://localhost:8080/"
        },
        "outputId": "b1f98cf3-846f-440c-a1d9-8a676dbbcddc"
      },
      "execution_count": 33,
      "outputs": [
        {
          "output_type": "execute_result",
          "data": {
            "text/plain": [
              "(7972, 30)"
            ]
          },
          "metadata": {},
          "execution_count": 33
        }
      ]
    },
    {
      "cell_type": "code",
      "source": [
        "y=df['Class']\n",
        "y"
      ],
      "metadata": {
        "colab": {
          "base_uri": "https://localhost:8080/"
        },
        "id": "R7M2L4rADx9d",
        "outputId": "95bd3541-1c36-4267-813e-4b5ef3682e87"
      },
      "execution_count": 35,
      "outputs": [
        {
          "output_type": "execute_result",
          "data": {
            "text/plain": [
              "0       0.0\n",
              "1       0.0\n",
              "2       0.0\n",
              "3       0.0\n",
              "4       0.0\n",
              "       ... \n",
              "7967    0.0\n",
              "7968    0.0\n",
              "7969    0.0\n",
              "7970    0.0\n",
              "7971    0.0\n",
              "Name: Class, Length: 7972, dtype: float64"
            ]
          },
          "metadata": {},
          "execution_count": 35
        }
      ]
    },
    {
      "cell_type": "code",
      "source": [
        "y.shape"
      ],
      "metadata": {
        "colab": {
          "base_uri": "https://localhost:8080/"
        },
        "id": "oVdfH7FsD4lc",
        "outputId": "76f5c328-d5d9-4c74-82e0-899f1923ba02"
      },
      "execution_count": 36,
      "outputs": [
        {
          "output_type": "execute_result",
          "data": {
            "text/plain": [
              "(7972,)"
            ]
          },
          "metadata": {},
          "execution_count": 36
        }
      ]
    },
    {
      "cell_type": "markdown",
      "source": [
        "it does not take any columns for p training and testing the data so we are only taking values without taking columns"
      ],
      "metadata": {
        "id": "WISb3ttmGHFx"
      }
    },
    {
      "cell_type": "code",
      "source": [
        "x1=x.values\n",
        "x1"
      ],
      "metadata": {
        "colab": {
          "base_uri": "https://localhost:8080/"
        },
        "id": "PWoqIGpbD9nN",
        "outputId": "3064dc8a-5015-45a7-a769-e240d37b52fa"
      },
      "execution_count": 37,
      "outputs": [
        {
          "output_type": "execute_result",
          "data": {
            "text/plain": [
              "array([[ 0.00000000e+00, -1.35980713e+00, -7.27811733e-02, ...,\n",
              "         1.33558377e-01, -2.10530535e-02,  1.49620000e+02],\n",
              "       [ 0.00000000e+00,  1.19185711e+00,  2.66150712e-01, ...,\n",
              "        -8.98309914e-03,  1.47241692e-02,  2.69000000e+00],\n",
              "       [ 1.00000000e+00, -1.35835406e+00, -1.34016307e+00, ...,\n",
              "        -5.53527940e-02, -5.97518406e-02,  3.78660000e+02],\n",
              "       ...,\n",
              "       [ 1.09810000e+04,  1.19042824e+00, -1.22329144e-01, ...,\n",
              "        -1.00188315e-01, -4.77439733e-03,  1.49500000e+01],\n",
              "       [ 1.09810000e+04, -7.25174766e-01,  2.98202350e-01, ...,\n",
              "        -3.11419393e-02,  2.55638666e-02,  1.29500000e+01],\n",
              "       [ 1.09810000e+04,  1.22615304e+00, -1.29645121e-01, ...,\n",
              "        -1.00081361e-01, -9.86920840e-03,  1.59500000e+01]])"
            ]
          },
          "metadata": {},
          "execution_count": 37
        }
      ]
    },
    {
      "cell_type": "code",
      "source": [
        "y1=y.values\n",
        "y1"
      ],
      "metadata": {
        "colab": {
          "base_uri": "https://localhost:8080/"
        },
        "id": "slccUdArGX8k",
        "outputId": "fb46b7ab-cd57-4524-e049-2c8f9f2a95c6"
      },
      "execution_count": 39,
      "outputs": [
        {
          "output_type": "execute_result",
          "data": {
            "text/plain": [
              "array([0., 0., 0., ..., 0., 0., 0.])"
            ]
          },
          "metadata": {},
          "execution_count": 39
        }
      ]
    },
    {
      "cell_type": "code",
      "source": [
        "# training and testing the dataset"
      ],
      "metadata": {
        "id": "dcsJIEMgGatN"
      },
      "execution_count": 40,
      "outputs": []
    },
    {
      "cell_type": "code",
      "source": [
        "x_train,x_test,y_train,y_test=train_test_split(x1,y1,test_size=0.2,random_state=42)"
      ],
      "metadata": {
        "id": "m2zxg2rjGl8D"
      },
      "execution_count": 41,
      "outputs": []
    },
    {
      "cell_type": "code",
      "source": [
        "print(x_train)"
      ],
      "metadata": {
        "colab": {
          "base_uri": "https://localhost:8080/"
        },
        "id": "p0puEPH7GxZa",
        "outputId": "601df940-b1d5-499d-846f-873b1100bfae"
      },
      "execution_count": 42,
      "outputs": [
        {
          "output_type": "stream",
          "name": "stdout",
          "text": [
            "[[ 1.17900000e+03  6.57389339e-01 -6.43789396e-01 ...  1.14239002e-02\n",
            "   7.49778628e-02  2.51350000e+02]\n",
            " [ 1.88000000e+02  1.16843339e+00  3.19977589e-01 ...  2.18927266e-02\n",
            "   1.93366400e-02  8.09000000e+00]\n",
            " [ 0.00000000e+00 -1.35980713e+00 -7.27811733e-02 ...  1.33558377e-01\n",
            "  -2.10530535e-02  1.49620000e+02]\n",
            " ...\n",
            " [ 6.54000000e+02 -8.33568321e-01  6.06174188e-01 ...  1.64383985e-01\n",
            "   2.74361005e-01  9.90000000e+00]\n",
            " [ 1.05180000e+04 -2.26083429e+00 -7.58476478e-01 ...  2.49838190e-01\n",
            "  -5.77953345e-03  9.50000000e-01]\n",
            " [ 9.67300000e+03 -1.61547335e+00  1.50325911e+00 ... -1.11060384e+00\n",
            "   1.15793236e-01  2.99900000e+01]]\n"
          ]
        }
      ]
    },
    {
      "cell_type": "code",
      "source": [
        "print(x_test)\n"
      ],
      "metadata": {
        "colab": {
          "base_uri": "https://localhost:8080/"
        },
        "id": "_T_2qCkXG0jk",
        "outputId": "8f87c6eb-4631-4347-88a3-1b91c501fb95"
      },
      "execution_count": 43,
      "outputs": [
        {
          "output_type": "stream",
          "name": "stdout",
          "text": [
            "[[ 5.75300000e+03 -1.12863936e+00  1.24763953e+00 ...  1.82763452e-01\n",
            "   1.07998112e-01  5.90000000e+00]\n",
            " [ 4.69000000e+03 -1.30060458e+00  5.98826086e-01 ... -8.28637702e-01\n",
            "  -9.99499308e-02  1.56900000e+01]\n",
            " [ 2.94200000e+03 -4.55381586e-01  4.65230036e-01 ...  4.40550611e-03\n",
            "  -5.23812598e-02  9.48000000e+01]\n",
            " ...\n",
            " [ 7.58000000e+03  1.13427464e+00  2.42404189e-01 ... -3.27342627e-03\n",
            "   1.71692354e-02  3.60000000e+01]\n",
            " [ 9.82800000e+03 -9.96630171e-01  1.16049279e+00 ...  1.09208486e-01\n",
            "   1.03158112e-01  8.76000000e+00]\n",
            " [ 4.43700000e+03  1.28067328e+00  1.21095747e-01 ...  4.90805040e-06\n",
            "   4.75607379e-03  1.00000000e+00]]\n"
          ]
        }
      ]
    },
    {
      "cell_type": "code",
      "source": [
        "print(y_train)"
      ],
      "metadata": {
        "colab": {
          "base_uri": "https://localhost:8080/"
        },
        "id": "Eina8tMAG4j8",
        "outputId": "5b6b9906-97dd-40e9-b9b1-8b908064386b"
      },
      "execution_count": 44,
      "outputs": [
        {
          "output_type": "stream",
          "name": "stdout",
          "text": [
            "[0. 0. 0. ... 0. 0. 0.]\n"
          ]
        }
      ]
    },
    {
      "cell_type": "code",
      "source": [
        "print(y_test)"
      ],
      "metadata": {
        "colab": {
          "base_uri": "https://localhost:8080/"
        },
        "id": "MwaXKGbHG6fZ",
        "outputId": "afe61246-5bb5-4b41-8373-dac3d84487a4"
      },
      "execution_count": 45,
      "outputs": [
        {
          "output_type": "stream",
          "name": "stdout",
          "text": [
            "[0. 0. 0. ... 0. 0. 0.]\n"
          ]
        }
      ]
    },
    {
      "cell_type": "markdown",
      "source": [
        "##MODEL BUILDING"
      ],
      "metadata": {
        "id": "Tc3uLLrSHFCi"
      }
    },
    {
      "cell_type": "code",
      "source": [
        "rfc=RandomForestClassifier()"
      ],
      "metadata": {
        "id": "3-g2kK9VG8KR"
      },
      "execution_count": 46,
      "outputs": []
    },
    {
      "cell_type": "code",
      "source": [
        "rfc.fit(x_train,y_train)"
      ],
      "metadata": {
        "colab": {
          "base_uri": "https://localhost:8080/",
          "height": 74
        },
        "id": "DA6qsZYgHPzn",
        "outputId": "ec9ab841-5b91-450b-c0e6-b8b957c56408"
      },
      "execution_count": 47,
      "outputs": [
        {
          "output_type": "execute_result",
          "data": {
            "text/plain": [
              "RandomForestClassifier()"
            ],
            "text/html": [
              "<style>#sk-container-id-1 {color: black;background-color: white;}#sk-container-id-1 pre{padding: 0;}#sk-container-id-1 div.sk-toggleable {background-color: white;}#sk-container-id-1 label.sk-toggleable__label {cursor: pointer;display: block;width: 100%;margin-bottom: 0;padding: 0.3em;box-sizing: border-box;text-align: center;}#sk-container-id-1 label.sk-toggleable__label-arrow:before {content: \"▸\";float: left;margin-right: 0.25em;color: #696969;}#sk-container-id-1 label.sk-toggleable__label-arrow:hover:before {color: black;}#sk-container-id-1 div.sk-estimator:hover label.sk-toggleable__label-arrow:before {color: black;}#sk-container-id-1 div.sk-toggleable__content {max-height: 0;max-width: 0;overflow: hidden;text-align: left;background-color: #f0f8ff;}#sk-container-id-1 div.sk-toggleable__content pre {margin: 0.2em;color: black;border-radius: 0.25em;background-color: #f0f8ff;}#sk-container-id-1 input.sk-toggleable__control:checked~div.sk-toggleable__content {max-height: 200px;max-width: 100%;overflow: auto;}#sk-container-id-1 input.sk-toggleable__control:checked~label.sk-toggleable__label-arrow:before {content: \"▾\";}#sk-container-id-1 div.sk-estimator input.sk-toggleable__control:checked~label.sk-toggleable__label {background-color: #d4ebff;}#sk-container-id-1 div.sk-label input.sk-toggleable__control:checked~label.sk-toggleable__label {background-color: #d4ebff;}#sk-container-id-1 input.sk-hidden--visually {border: 0;clip: rect(1px 1px 1px 1px);clip: rect(1px, 1px, 1px, 1px);height: 1px;margin: -1px;overflow: hidden;padding: 0;position: absolute;width: 1px;}#sk-container-id-1 div.sk-estimator {font-family: monospace;background-color: #f0f8ff;border: 1px dotted black;border-radius: 0.25em;box-sizing: border-box;margin-bottom: 0.5em;}#sk-container-id-1 div.sk-estimator:hover {background-color: #d4ebff;}#sk-container-id-1 div.sk-parallel-item::after {content: \"\";width: 100%;border-bottom: 1px solid gray;flex-grow: 1;}#sk-container-id-1 div.sk-label:hover label.sk-toggleable__label {background-color: #d4ebff;}#sk-container-id-1 div.sk-serial::before {content: \"\";position: absolute;border-left: 1px solid gray;box-sizing: border-box;top: 0;bottom: 0;left: 50%;z-index: 0;}#sk-container-id-1 div.sk-serial {display: flex;flex-direction: column;align-items: center;background-color: white;padding-right: 0.2em;padding-left: 0.2em;position: relative;}#sk-container-id-1 div.sk-item {position: relative;z-index: 1;}#sk-container-id-1 div.sk-parallel {display: flex;align-items: stretch;justify-content: center;background-color: white;position: relative;}#sk-container-id-1 div.sk-item::before, #sk-container-id-1 div.sk-parallel-item::before {content: \"\";position: absolute;border-left: 1px solid gray;box-sizing: border-box;top: 0;bottom: 0;left: 50%;z-index: -1;}#sk-container-id-1 div.sk-parallel-item {display: flex;flex-direction: column;z-index: 1;position: relative;background-color: white;}#sk-container-id-1 div.sk-parallel-item:first-child::after {align-self: flex-end;width: 50%;}#sk-container-id-1 div.sk-parallel-item:last-child::after {align-self: flex-start;width: 50%;}#sk-container-id-1 div.sk-parallel-item:only-child::after {width: 0;}#sk-container-id-1 div.sk-dashed-wrapped {border: 1px dashed gray;margin: 0 0.4em 0.5em 0.4em;box-sizing: border-box;padding-bottom: 0.4em;background-color: white;}#sk-container-id-1 div.sk-label label {font-family: monospace;font-weight: bold;display: inline-block;line-height: 1.2em;}#sk-container-id-1 div.sk-label-container {text-align: center;}#sk-container-id-1 div.sk-container {/* jupyter's `normalize.less` sets `[hidden] { display: none; }` but bootstrap.min.css set `[hidden] { display: none !important; }` so we also need the `!important` here to be able to override the default hidden behavior on the sphinx rendered scikit-learn.org. See: https://github.com/scikit-learn/scikit-learn/issues/21755 */display: inline-block !important;position: relative;}#sk-container-id-1 div.sk-text-repr-fallback {display: none;}</style><div id=\"sk-container-id-1\" class=\"sk-top-container\"><div class=\"sk-text-repr-fallback\"><pre>RandomForestClassifier()</pre><b>In a Jupyter environment, please rerun this cell to show the HTML representation or trust the notebook. <br />On GitHub, the HTML representation is unable to render, please try loading this page with nbviewer.org.</b></div><div class=\"sk-container\" hidden><div class=\"sk-item\"><div class=\"sk-estimator sk-toggleable\"><input class=\"sk-toggleable__control sk-hidden--visually\" id=\"sk-estimator-id-1\" type=\"checkbox\" checked><label for=\"sk-estimator-id-1\" class=\"sk-toggleable__label sk-toggleable__label-arrow\">RandomForestClassifier</label><div class=\"sk-toggleable__content\"><pre>RandomForestClassifier()</pre></div></div></div></div></div>"
            ]
          },
          "metadata": {},
          "execution_count": 47
        }
      ]
    },
    {
      "cell_type": "markdown",
      "source": [
        "##PREDICTING"
      ],
      "metadata": {
        "id": "22hDskTxHf5o"
      }
    },
    {
      "cell_type": "code",
      "source": [
        "y_pred=rfc.predict(x_test)\n",
        "print(y_pred)"
      ],
      "metadata": {
        "colab": {
          "base_uri": "https://localhost:8080/"
        },
        "id": "X5Ex5K5mHWYK",
        "outputId": "21733afa-c538-4caf-fb06-2d1600a93735"
      },
      "execution_count": 48,
      "outputs": [
        {
          "output_type": "stream",
          "name": "stdout",
          "text": [
            "[0. 0. 0. ... 0. 0. 0.]\n"
          ]
        }
      ]
    },
    {
      "cell_type": "markdown",
      "source": [
        "##ACCURACY SCORE , PREICISION,RECALL SCORE"
      ],
      "metadata": {
        "id": "N7KZmqGiH4SK"
      }
    },
    {
      "cell_type": "code",
      "source": [
        "accuracy=accuracy_score(y_test,y_pred)\n",
        "print('ACCURACY SCORE IS {}'.format(accuracy))"
      ],
      "metadata": {
        "colab": {
          "base_uri": "https://localhost:8080/"
        },
        "id": "OTppGv0RHnLu",
        "outputId": "650726bf-7ed1-4a26-9ae3-6ee1b3cbcfd7"
      },
      "execution_count": 51,
      "outputs": [
        {
          "output_type": "stream",
          "name": "stdout",
          "text": [
            "ACCURACY SCORE IS 1.0\n"
          ]
        }
      ]
    },
    {
      "cell_type": "code",
      "source": [
        "precision=precision_score(y_test,y_pred)\n",
        "print('the precision score is {}'.format(precision))"
      ],
      "metadata": {
        "colab": {
          "base_uri": "https://localhost:8080/"
        },
        "id": "PBX83KPHIMJu",
        "outputId": "fe36bace-b3c7-4d7c-af40-a5f19477852a"
      },
      "execution_count": 55,
      "outputs": [
        {
          "output_type": "stream",
          "name": "stdout",
          "text": [
            "the precision score is 1.0\n"
          ]
        }
      ]
    },
    {
      "cell_type": "code",
      "source": [
        "recall=recall_score(y_test,y_pred)\n",
        "print('the recall score is {}'.format(recall))"
      ],
      "metadata": {
        "colab": {
          "base_uri": "https://localhost:8080/"
        },
        "id": "J1TNWBQIKwjq",
        "outputId": "7d694e17-f057-4b80-ab2a-2b3abe3efbd2"
      },
      "execution_count": 56,
      "outputs": [
        {
          "output_type": "stream",
          "name": "stdout",
          "text": [
            "the recall score is 1.0\n"
          ]
        }
      ]
    },
    {
      "cell_type": "markdown",
      "source": [
        "##CONFUSION MATRIX"
      ],
      "metadata": {
        "id": "c8fQEGngLcTY"
      }
    },
    {
      "cell_type": "code",
      "source": [
        "cm=confusion_matrix(y_test,y_pred)\n",
        "cm"
      ],
      "metadata": {
        "colab": {
          "base_uri": "https://localhost:8080/"
        },
        "id": "NmUsUKtwLGZq",
        "outputId": "cb7d61c0-b675-4730-ee13-2a8760b325c9"
      },
      "execution_count": 60,
      "outputs": [
        {
          "output_type": "execute_result",
          "data": {
            "text/plain": [
              "array([[1592,    0],\n",
              "       [   0,    3]])"
            ]
          },
          "metadata": {},
          "execution_count": 60
        }
      ]
    },
    {
      "cell_type": "code",
      "source": [
        "#visualizing the confusion matrix"
      ],
      "metadata": {
        "id": "KF-cwXcKSFwP"
      },
      "execution_count": 61,
      "outputs": []
    },
    {
      "cell_type": "code",
      "source": [
        "labels=['Normal','fraud']\n",
        "sns.heatmap(cm,xticklabels=labels,yticklabels=labels,annot=True)\n",
        "plt.title('confusion_matrix')\n",
        "plt.ylabel('True values')\n",
        "plt.xlabel('predicted values')\n",
        "plt.show()"
      ],
      "metadata": {
        "colab": {
          "base_uri": "https://localhost:8080/",
          "height": 472
        },
        "id": "zjj0erB3TLAR",
        "outputId": "11c87703-5bc7-4e48-c260-25b56e8985ec"
      },
      "execution_count": 63,
      "outputs": [
        {
          "output_type": "display_data",
          "data": {
            "text/plain": [
              "<Figure size 640x480 with 2 Axes>"
            ],
            "image/png": "[encoded data removed]"
          },
          "metadata": {}
        }
      ]
    },
    {
      "cell_type": "code",
      "source": [],
      "metadata": {
        "id": "BYKdtChGTxIU"
      },
      "execution_count": null,
      "outputs": []
    },
    {
      "cell_type": "markdown",
      "source": [
        "##conclusion:Credit card fraud is a serious issue that can lead to financial loss and identity theft. It is a type of fraud committed using a payment card, such as a credit card or debit card. The purpose may be to obtain goods or services or to make payment to another account, which is controlled by a criminals. Credit card fraud can occur when unauthorized users gain access to an individual’s credit card information in order to make purchases, other transactions, or open new accounts 1. There are various techniques used for credit card frauds such as paper-based fraud, application fraud, financial fraud, skimming to commit fraud, etc2. To detect credit card fraud, refer to the sources mentioned in the results"
      ],
      "metadata": {
        "id": "wjlICsoXZOeX"
      }
    },
    {
      "cell_type": "code",
      "source": [],
      "metadata": {
        "id": "W21vxn-UZw_9"
      },
      "execution_count": null,
      "outputs": []
    }
  ],
  "metadata": {
    "colab": {
      "provenance": []
    },
    "kernelspec": {
      "display_name": "Python 3",
      "name": "python3"
    },
    "language_info": {
      "name": "python"
    }
  },
  "nbformat": 4,
  "nbformat_minor": 0
}